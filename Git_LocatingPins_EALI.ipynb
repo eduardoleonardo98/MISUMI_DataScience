{
  "nbformat": 4,
  "nbformat_minor": 0,
  "metadata": {
    "colab": {
      "provenance": []
    },
    "kernelspec": {
      "name": "python3",
      "display_name": "Python 3"
    },
    "language_info": {
      "name": "python"
    },
    "widgets": {
      "application/vnd.jupyter.widget-state+json": {
        "87302f7bbe5949a0af37574b93011540": {
          "model_module": "@jupyter-widgets/controls",
          "model_name": "HBoxModel",
          "model_module_version": "1.5.0",
          "state": {
            "_dom_classes": [],
            "_model_module": "@jupyter-widgets/controls",
            "_model_module_version": "1.5.0",
            "_model_name": "HBoxModel",
            "_view_count": null,
            "_view_module": "@jupyter-widgets/controls",
            "_view_module_version": "1.5.0",
            "_view_name": "HBoxView",
            "box_style": "",
            "children": [
              "IPY_MODEL_3b349fe8205f4dda91196a9e8cff08b5",
              "IPY_MODEL_da4e95b8ec5b4f1d875bf4b334f47535",
              "IPY_MODEL_96a1d89b41254c7ca771a4d796376f03"
            ],
            "layout": "IPY_MODEL_31d0a62df6d041018c6d49b1304326f8"
          }
        },
        "3b349fe8205f4dda91196a9e8cff08b5": {
          "model_module": "@jupyter-widgets/controls",
          "model_name": "HTMLModel",
          "model_module_version": "1.5.0",
          "state": {
            "_dom_classes": [],
            "_model_module": "@jupyter-widgets/controls",
            "_model_module_version": "1.5.0",
            "_model_name": "HTMLModel",
            "_view_count": null,
            "_view_module": "@jupyter-widgets/controls",
            "_view_module_version": "1.5.0",
            "_view_name": "HTMLView",
            "description": "",
            "description_tooltip": null,
            "layout": "IPY_MODEL_e2be964fce83454980aae02056bc4e95",
            "placeholder": "​",
            "style": "IPY_MODEL_8f330983e0d244118d5fde77c16aa5c8",
            "value": "Buscando series en MISUMI: 100%"
          }
        },
        "da4e95b8ec5b4f1d875bf4b334f47535": {
          "model_module": "@jupyter-widgets/controls",
          "model_name": "FloatProgressModel",
          "model_module_version": "1.5.0",
          "state": {
            "_dom_classes": [],
            "_model_module": "@jupyter-widgets/controls",
            "_model_module_version": "1.5.0",
            "_model_name": "FloatProgressModel",
            "_view_count": null,
            "_view_module": "@jupyter-widgets/controls",
            "_view_module_version": "1.5.0",
            "_view_name": "ProgressView",
            "bar_style": "success",
            "description": "",
            "description_tooltip": null,
            "layout": "IPY_MODEL_cebbcdde64a740d484158eb19e77e984",
            "max": 1350,
            "min": 0,
            "orientation": "horizontal",
            "style": "IPY_MODEL_ffa483157e69450aa943272dafca5640",
            "value": 1350
          }
        },
        "96a1d89b41254c7ca771a4d796376f03": {
          "model_module": "@jupyter-widgets/controls",
          "model_name": "HTMLModel",
          "model_module_version": "1.5.0",
          "state": {
            "_dom_classes": [],
            "_model_module": "@jupyter-widgets/controls",
            "_model_module_version": "1.5.0",
            "_model_name": "HTMLModel",
            "_view_count": null,
            "_view_module": "@jupyter-widgets/controls",
            "_view_module_version": "1.5.0",
            "_view_name": "HTMLView",
            "description": "",
            "description_tooltip": null,
            "layout": "IPY_MODEL_cbbe322fe9114e458a4d65a742da3dc2",
            "placeholder": "​",
            "style": "IPY_MODEL_0558d4d7bebd4f07b705990a9f258b48",
            "value": " 1350/1350 [36:12&lt;00:00,  1.53s/it]"
          }
        },
        "31d0a62df6d041018c6d49b1304326f8": {
          "model_module": "@jupyter-widgets/base",
          "model_name": "LayoutModel",
          "model_module_version": "1.2.0",
          "state": {
            "_model_module": "@jupyter-widgets/base",
            "_model_module_version": "1.2.0",
            "_model_name": "LayoutModel",
            "_view_count": null,
            "_view_module": "@jupyter-widgets/base",
            "_view_module_version": "1.2.0",
            "_view_name": "LayoutView",
            "align_content": null,
            "align_items": null,
            "align_self": null,
            "border": null,
            "bottom": null,
            "display": null,
            "flex": null,
            "flex_flow": null,
            "grid_area": null,
            "grid_auto_columns": null,
            "grid_auto_flow": null,
            "grid_auto_rows": null,
            "grid_column": null,
            "grid_gap": null,
            "grid_row": null,
            "grid_template_areas": null,
            "grid_template_columns": null,
            "grid_template_rows": null,
            "height": null,
            "justify_content": null,
            "justify_items": null,
            "left": null,
            "margin": null,
            "max_height": null,
            "max_width": null,
            "min_height": null,
            "min_width": null,
            "object_fit": null,
            "object_position": null,
            "order": null,
            "overflow": null,
            "overflow_x": null,
            "overflow_y": null,
            "padding": null,
            "right": null,
            "top": null,
            "visibility": null,
            "width": null
          }
        },
        "e2be964fce83454980aae02056bc4e95": {
          "model_module": "@jupyter-widgets/base",
          "model_name": "LayoutModel",
          "model_module_version": "1.2.0",
          "state": {
            "_model_module": "@jupyter-widgets/base",
            "_model_module_version": "1.2.0",
            "_model_name": "LayoutModel",
            "_view_count": null,
            "_view_module": "@jupyter-widgets/base",
            "_view_module_version": "1.2.0",
            "_view_name": "LayoutView",
            "align_content": null,
            "align_items": null,
            "align_self": null,
            "border": null,
            "bottom": null,
            "display": null,
            "flex": null,
            "flex_flow": null,
            "grid_area": null,
            "grid_auto_columns": null,
            "grid_auto_flow": null,
            "grid_auto_rows": null,
            "grid_column": null,
            "grid_gap": null,
            "grid_row": null,
            "grid_template_areas": null,
            "grid_template_columns": null,
            "grid_template_rows": null,
            "height": null,
            "justify_content": null,
            "justify_items": null,
            "left": null,
            "margin": null,
            "max_height": null,
            "max_width": null,
            "min_height": null,
            "min_width": null,
            "object_fit": null,
            "object_position": null,
            "order": null,
            "overflow": null,
            "overflow_x": null,
            "overflow_y": null,
            "padding": null,
            "right": null,
            "top": null,
            "visibility": null,
            "width": null
          }
        },
        "8f330983e0d244118d5fde77c16aa5c8": {
          "model_module": "@jupyter-widgets/controls",
          "model_name": "DescriptionStyleModel",
          "model_module_version": "1.5.0",
          "state": {
            "_model_module": "@jupyter-widgets/controls",
            "_model_module_version": "1.5.0",
            "_model_name": "DescriptionStyleModel",
            "_view_count": null,
            "_view_module": "@jupyter-widgets/base",
            "_view_module_version": "1.2.0",
            "_view_name": "StyleView",
            "description_width": ""
          }
        },
        "cebbcdde64a740d484158eb19e77e984": {
          "model_module": "@jupyter-widgets/base",
          "model_name": "LayoutModel",
          "model_module_version": "1.2.0",
          "state": {
            "_model_module": "@jupyter-widgets/base",
            "_model_module_version": "1.2.0",
            "_model_name": "LayoutModel",
            "_view_count": null,
            "_view_module": "@jupyter-widgets/base",
            "_view_module_version": "1.2.0",
            "_view_name": "LayoutView",
            "align_content": null,
            "align_items": null,
            "align_self": null,
            "border": null,
            "bottom": null,
            "display": null,
            "flex": null,
            "flex_flow": null,
            "grid_area": null,
            "grid_auto_columns": null,
            "grid_auto_flow": null,
            "grid_auto_rows": null,
            "grid_column": null,
            "grid_gap": null,
            "grid_row": null,
            "grid_template_areas": null,
            "grid_template_columns": null,
            "grid_template_rows": null,
            "height": null,
            "justify_content": null,
            "justify_items": null,
            "left": null,
            "margin": null,
            "max_height": null,
            "max_width": null,
            "min_height": null,
            "min_width": null,
            "object_fit": null,
            "object_position": null,
            "order": null,
            "overflow": null,
            "overflow_x": null,
            "overflow_y": null,
            "padding": null,
            "right": null,
            "top": null,
            "visibility": null,
            "width": null
          }
        },
        "ffa483157e69450aa943272dafca5640": {
          "model_module": "@jupyter-widgets/controls",
          "model_name": "ProgressStyleModel",
          "model_module_version": "1.5.0",
          "state": {
            "_model_module": "@jupyter-widgets/controls",
            "_model_module_version": "1.5.0",
            "_model_name": "ProgressStyleModel",
            "_view_count": null,
            "_view_module": "@jupyter-widgets/base",
            "_view_module_version": "1.2.0",
            "_view_name": "StyleView",
            "bar_color": null,
            "description_width": ""
          }
        },
        "cbbe322fe9114e458a4d65a742da3dc2": {
          "model_module": "@jupyter-widgets/base",
          "model_name": "LayoutModel",
          "model_module_version": "1.2.0",
          "state": {
            "_model_module": "@jupyter-widgets/base",
            "_model_module_version": "1.2.0",
            "_model_name": "LayoutModel",
            "_view_count": null,
            "_view_module": "@jupyter-widgets/base",
            "_view_module_version": "1.2.0",
            "_view_name": "LayoutView",
            "align_content": null,
            "align_items": null,
            "align_self": null,
            "border": null,
            "bottom": null,
            "display": null,
            "flex": null,
            "flex_flow": null,
            "grid_area": null,
            "grid_auto_columns": null,
            "grid_auto_flow": null,
            "grid_auto_rows": null,
            "grid_column": null,
            "grid_gap": null,
            "grid_row": null,
            "grid_template_areas": null,
            "grid_template_columns": null,
            "grid_template_rows": null,
            "height": null,
            "justify_content": null,
            "justify_items": null,
            "left": null,
            "margin": null,
            "max_height": null,
            "max_width": null,
            "min_height": null,
            "min_width": null,
            "object_fit": null,
            "object_position": null,
            "order": null,
            "overflow": null,
            "overflow_x": null,
            "overflow_y": null,
            "padding": null,
            "right": null,
            "top": null,
            "visibility": null,
            "width": null
          }
        },
        "0558d4d7bebd4f07b705990a9f258b48": {
          "model_module": "@jupyter-widgets/controls",
          "model_name": "DescriptionStyleModel",
          "model_module_version": "1.5.0",
          "state": {
            "_model_module": "@jupyter-widgets/controls",
            "_model_module_version": "1.5.0",
            "_model_name": "DescriptionStyleModel",
            "_view_count": null,
            "_view_module": "@jupyter-widgets/base",
            "_view_module_version": "1.2.0",
            "_view_name": "StyleView",
            "description_width": ""
          }
        }
      }
    }
  },
  "cells": [
    {
      "cell_type": "markdown",
      "source": [
        "# **Análisis Funnel de Ventas: InnerCodes para la categoría de Locating Pins**\n",
        "## **Path to purchase en plataforma de e-commerce: MISUMI MÉXICO**\n",
        "\n",
        "**Funnel de ventas para Locating Pins**\n",
        "\n",
        "**_Data Science PIC:_**\n",
        "\n",
        "Eduardo A. Leonardo - AI Innovation Engineer\n",
        "\n",
        "**_Project Management PIC:_**\n",
        "\n",
        "José Santamaría - Customer Engineer\n",
        "\n",
        "**Rango de los datos: FY2024 y FY2025 hsata el mes de Julio**\n"
      ],
      "metadata": {
        "id": "WggrdayF4Mnv"
      }
    },
    {
      "cell_type": "markdown",
      "source": [
        "# **Introducción**\n",
        "\n",
        "El presente trabajo desarrolla un **proyecto de análisis de datos aplicado a la categoría *Locating Pins*** dentro del catálogo de **MISUMI México**.  \n",
        "Su objetivo principal es comprender el comportamiento del cliente a lo largo del **proceso de conversión o *path to purchase***, desde la generación del número de parte hasta la venta final.\n",
        "\n",
        "Para ello se integran y procesan diferentes fuentes de información que representan las etapas clave del embudo comercial:\n",
        "\n",
        "- Generación de números de parte en el configurador del catálogo.  \n",
        "- Descargas de modelos CAD 2D/3D por parte de los usuarios.  \n",
        "- Solicitudes de cotización (*Quotations*).  \n",
        "- Órdenes de venta confirmadas (*Sales Orders*).\n",
        "\n",
        "A partir de estos datos, se implementan técnicas de **data wrangling**, **web scraping** y **feature engineering** para consolidar un conjunto de datos limpio, enriquecido y listo para análisis.  \n",
        "Posteriormente, se desarrollan visualizaciones y modelos que permiten **evaluar la eficiencia del funnel**, identificar los productos con mayor impacto y medir la conversión efectiva entre las distintas fases.\n",
        "\n",
        "El enfoque analítico de este notebook busca **apoyar la toma de decisiones estratégicas** sobre la familia *Locating Pins*, ofreciendo información cuantitativa sobre tendencias de comportamiento, desempeño comercial y oportunidades de mejora en la oferta de productos.\n"
      ],
      "metadata": {
        "id": "hWywjukdcXfW"
      }
    },
    {
      "cell_type": "markdown",
      "source": [
        "## **Bancos de Datos y Preprocesamiento: *Locating Pins***\n",
        "\n",
        "En esta etapa se analizaron **cuatro archivos CSV** que contienen información clave sobre las distintas fases del *path to purchase* del cliente.  \n",
        "Cada archivo representa una etapa específica del proceso de interacción con el catálogo de MISUMI:\n",
        "\n",
        "1. **Generación de números de parte:**  \n",
        "   Contiene los códigos creados por los usuarios al configurar componentes personalizados.\n",
        "\n",
        "2. **Generación de modelos y descarga de CADs:**  \n",
        "   Registra los eventos de descarga de modelos 3D o 2D, reflejando interés técnico y validación de diseño.\n",
        "\n",
        "3. **Números de parte cotizados:**  \n",
        "   Incluye los productos que fueron solicitados para cotización, evidenciando una intención de compra avanzada.\n",
        "\n",
        "4. **Números de parte vendidos:**  \n",
        "   Agrupa los componentes que finalmente fueron adquiridos, completando el ciclo de compra.\n",
        "\n",
        "El análisis conjunto de estos archivos permite **visualizar el embudo de conversión del cliente** y comprender de forma integral su comportamiento a lo largo del proceso de adquisición de *Locating Pins*.\n",
        "\n"
      ],
      "metadata": {
        "id": "YirADutL554v"
      }
    },
    {
      "cell_type": "code",
      "source": [
        "!pip -q install requests beautifulsoup4 lxml tqdm"
      ],
      "metadata": {
        "id": "zgupmwsKkKC3"
      },
      "execution_count": null,
      "outputs": []
    },
    {
      "cell_type": "code",
      "execution_count": null,
      "metadata": {
        "id": "GjgWITMwr6IE"
      },
      "outputs": [],
      "source": [
        "import re, time, json, os\n",
        "import pandas as pd\n",
        "import requests\n",
        "from bs4 import BeautifulSoup\n",
        "from urllib.parse import quote\n",
        "from concurrent.futures import ThreadPoolExecutor, as_completed\n",
        "from requests.adapters import HTTPAdapter\n",
        "from urllib3.util.retry import Retry\n",
        "from tqdm.auto import tqdm\n",
        "import matplotlib.pyplot as plt\n",
        "from matplotlib.patches import Polygon"
      ]
    },
    {
      "cell_type": "markdown",
      "source": [
        "Data Frame Generación de números de parte \"df_pngen_2425\""
      ],
      "metadata": {
        "id": "EJP8zbus8pLE"
      }
    },
    {
      "cell_type": "code",
      "source": [
        "df1 = pd.read_csv(\"/content/allcadfy24.csv\", encoding=\"utf-16\", sep=\"\\t\")\n",
        "df2 = pd.read_csv(\"/content/cadall.csv\", encoding=\"utf-16\", sep=\"\\t\")\n",
        "df_cad_2425 = pd.concat([df1, df2], ignore_index=True)"
      ],
      "metadata": {
        "id": "NfFtMvYhtnaw"
      },
      "execution_count": null,
      "outputs": []
    },
    {
      "cell_type": "code",
      "source": [
        "df_pngen_2425 = pd.read_excel(\"/content/pngen_2425.xlsx\")"
      ],
      "metadata": {
        "id": "C8Q6YSJox_Ma"
      },
      "execution_count": null,
      "outputs": []
    },
    {
      "cell_type": "markdown",
      "source": [
        "Data Frame: Generación y descarga de CADs para periodos FY24 y FY25 \"df_cad_2425\"\n",
        "\n",
        "Concatenación de datos: Generación y descarga de CADS para periodos FY24 y FY25"
      ],
      "metadata": {
        "id": "44_royNh72KI"
      }
    },
    {
      "cell_type": "code",
      "source": [
        "df1 = pd.read_csv(\"/content/allcadfy24.csv\", encoding=\"utf-16\", sep=\"\\t\")\n",
        "df2 = pd.read_csv(\"/content/cadall.csv\", encoding=\"utf-16\", sep=\"\\t\")\n",
        "df_cad_2425 = pd.concat([df1, df2], ignore_index=True)"
      ],
      "metadata": {
        "id": "J4DBzTYu7zkK"
      },
      "execution_count": null,
      "outputs": []
    },
    {
      "cell_type": "markdown",
      "source": [
        "Data Frame: Números de parte cotizados \"df_qt_2425\""
      ],
      "metadata": {
        "id": "4Vb7V9X-82bk"
      }
    },
    {
      "cell_type": "code",
      "source": [
        "df_qt_2425 = pd.read_csv(\"/content/QT_MMEX_LocatingPins.csv\")"
      ],
      "metadata": {
        "id": "-OBmjtDk9UOi"
      },
      "execution_count": null,
      "outputs": []
    },
    {
      "cell_type": "code",
      "source": [
        "df_qt_2425 = df_qt_2425[[\"REG_USR\", \"PRODUCT_CD\", \"BRAND_CD\", \"INNER_CD\", \"QT_QTY\", \"PRODUCT_NAME\" ]]"
      ],
      "metadata": {
        "id": "LwoK_18vDFvF"
      },
      "execution_count": null,
      "outputs": []
    },
    {
      "cell_type": "code",
      "source": [
        "df_qt_2425 = df_qt_2425[df_qt_2425[\"PRODUCT_NAME\"].isin([\"LOCATING PIN\", \"locating pin\"])]"
      ],
      "metadata": {
        "id": "7bQOK_ATUMtj"
      },
      "execution_count": null,
      "outputs": []
    },
    {
      "cell_type": "code",
      "source": [
        "df_qt_2425 = df_qt_2425.rename(columns={\"REG_USR\": \"CUSTOMER_CODE\", \"PRODUCT_CD\": \"PRODUCT_CODE\",})"
      ],
      "metadata": {
        "id": "gmQIDnQXIsQl"
      },
      "execution_count": null,
      "outputs": []
    },
    {
      "cell_type": "markdown",
      "source": [
        "Data Frame: Números de parte vendidos \"df_so_2425\""
      ],
      "metadata": {
        "id": "6CJb0acqFwR6"
      }
    },
    {
      "cell_type": "code",
      "source": [
        "df_so_2425 = pd.read_csv(\"/content/SO_MMEX_LocatingPins.csv\")\n",
        "df_so_2425 = df_so_2425[[\"REG_USR\", \"PRODUCT_CD\", \"BRAND_CD\", \"INNER_CD\", \"SO_QTY\", \"PRODUCT_NAME\" ]]\n",
        "df_so_2425 = df_so_2425[df_so_2425[\"PRODUCT_NAME\"].isin([\"LOCATING PIN\", \"locating pin\"])]\n",
        "df_so_2425 = df_so_2425.rename(columns={\"REG_USR\": \"CUSTOMER_CODE\", \"PRODUCT_CD\": \"PRODUCT_CODE\",})"
      ],
      "metadata": {
        "id": "NoQtsKhyFIEb"
      },
      "execution_count": null,
      "outputs": []
    },
    {
      "cell_type": "markdown",
      "source": [
        "Data Frame: Relación entre Inner Code y Series Code para Locating Pins\n",
        "\"df_cds_relation\""
      ],
      "metadata": {
        "id": "PTLPfuuyBxzO"
      }
    },
    {
      "cell_type": "code",
      "source": [
        "df_cds_relation = pd.read_excel(\"/content/inner_series_relation.xlsx\")"
      ],
      "metadata": {
        "id": "pkRePG8RB_uI"
      },
      "execution_count": null,
      "outputs": []
    },
    {
      "cell_type": "code",
      "source": [
        "df_cds_relation = df_cds_relation.rename(columns={\"SERIES CODE\": \"SERIES_CODE\",})"
      ],
      "metadata": {
        "id": "JmZHLWQEKsgR"
      },
      "execution_count": null,
      "outputs": []
    },
    {
      "cell_type": "markdown",
      "source": [
        "## **Feature Engineering: *Locating Pins***\n",
        "\n",
        "**Data Wrangling y enriquecimiento con datos disponibles**\n",
        "\n",
        "### Relación entre *Inner Code* y *Series Code* para el banco de *Quotations* y *Sales Orders*\n",
        "\n",
        "Se realiza una **estandarización de los nombres** y de sus llaves de unión.  \n",
        "Todas las claves son convertidas a texto y se eliminan espacios en blanco para evitar errores en los cruces entre *Inner Code* y *Series Code* dentro del *data frame* de *Quotations*.\n",
        "\n",
        "Posteriormente, se ejecuta un **left join** manteniendo todas las filas del *data frame* `df_qt_2425`, lo que garantiza que no se pierda información del banco de cotizaciones durante la unión con los datos de *Sales Orders*.\n",
        "\n",
        "Este proceso forma parte del *Feature Engineering*, ya que permite **enriquecer las observaciones de cotizaciones con información de ventas reales**, facilitando el análisis de conversión y priorización de productos dentro de la categoría *Locating Pins*.\n",
        "\n"
      ],
      "metadata": {
        "id": "iMp7bGmyHSMG"
      }
    },
    {
      "cell_type": "markdown",
      "source": [
        "##### Quotation"
      ],
      "metadata": {
        "id": "Rw4U_Ju0cfgA"
      }
    },
    {
      "cell_type": "code",
      "source": [
        "df_qt_2425.columns  = (df_qt_2425.columns .str.strip().str.replace(r\"\\s+\",\"_\",regex=True).str.upper())\n",
        "df_cds_relation.columns = (df_cds_relation.columns.str.strip().str.replace(r\"\\s+\",\"_\",regex=True).str.upper())\n",
        "\n",
        "df_qt_2425[\"INNER_CD\"] = df_qt_2425[\"INNER_CD\"].astype(str).str.strip()\n",
        "\n",
        "rel_key = \"INNER_CODE\" if \"INNER_CODE\" in df_cds_relation.columns else \"INNER_CD\"\n",
        "df_cds_relation[rel_key] = df_cds_relation[rel_key].astype(str).str.strip()\n",
        "\n",
        "df_cds_relation[\"SERIES_CODE\"] = df_cds_relation[\"SERIES_CODE\"].astype(str)\n",
        "\n",
        "df_qt_2425 = df_qt_2425.merge(\n",
        "    df_cds_relation[[rel_key, \"SERIES_CODE\"]].rename(columns={rel_key: \"INNER_CD\", \"SERIES_CODE\": \"SERIES_CD\"}),\n",
        "    on=\"INNER_CD\", how=\"left\"\n",
        ")\n",
        "\n",
        "df_qt_2425[\"SERIES_CD\"] = df_qt_2425[\"SERIES_CD\"].fillna(\"NO_MATCH\")\n"
      ],
      "metadata": {
        "id": "2DNLfDt5TcG4"
      },
      "execution_count": null,
      "outputs": []
    },
    {
      "cell_type": "code",
      "source": [
        "no_match_count_qt = (df_qt_2425[\"SERIES_CD\"] == \"NO_MATCH\").sum()\n",
        "\n",
        "print(\"Cantidad de NO_MATCH en SERIES_CD para Quotations:\", no_match_count_qt)\n"
      ],
      "metadata": {
        "colab": {
          "base_uri": "https://localhost:8080/"
        },
        "id": "7vt7a3mwVnqA",
        "outputId": "15248e09-a552-4ea2-ea91-ffdf3de8dedc"
      },
      "execution_count": null,
      "outputs": [
        {
          "output_type": "stream",
          "name": "stdout",
          "text": [
            "Cantidad de NO_MATCH en SERIES_CD para Quotations: 2647\n"
          ]
        }
      ]
    },
    {
      "cell_type": "code",
      "source": [
        "print(\"Porcentaje de valores faltantes del conjunto total de datos: \")\n",
        "print((no_match_count_qt/df_qt_2425.shape[0])*100, \"%\")"
      ],
      "metadata": {
        "colab": {
          "base_uri": "https://localhost:8080/"
        },
        "id": "t-_NcgBubM4s",
        "outputId": "7e97bb54-b4fe-4dd9-f0dc-e417c185a438"
      },
      "execution_count": null,
      "outputs": [
        {
          "output_type": "stream",
          "name": "stdout",
          "text": [
            "Porcentaje de valores faltantes del conjunto total de datos: \n",
            "67.66359918200409 %\n"
          ]
        }
      ]
    },
    {
      "cell_type": "markdown",
      "source": [
        "##### Sales Orders"
      ],
      "metadata": {
        "id": "nDzx1wJ5c4Qw"
      }
    },
    {
      "cell_type": "code",
      "source": [
        "df_so_2425.columns  = (df_so_2425.columns .str.strip().str.replace(r\"\\s+\",\"_\",regex=True).str.upper())\n",
        "df_cds_relation.columns = (df_cds_relation.columns.str.strip().str.replace(r\"\\s+\",\"_\",regex=True).str.upper())\n",
        "\n",
        "df_so_2425[\"INNER_CD\"] = df_so_2425[\"INNER_CD\"].astype(str).str.strip()\n",
        "\n",
        "rel_key = \"INNER_CODE\" if \"INNER_CODE\" in df_cds_relation.columns else \"INNER_CD\"\n",
        "df_cds_relation[rel_key] = df_cds_relation[rel_key].astype(str).str.strip()\n",
        "\n",
        "df_cds_relation[\"SERIES_CODE\"] = df_cds_relation[\"SERIES_CODE\"].astype(str)\n",
        "\n",
        "df_so_2425 = df_so_2425.merge(\n",
        "    df_cds_relation[[rel_key, \"SERIES_CODE\"]].rename(columns={rel_key: \"INNER_CD\", \"SERIES_CODE\": \"SERIES_CD\"}),\n",
        "    on=\"INNER_CD\", how=\"left\"\n",
        ")\n",
        "\n",
        "df_so_2425[\"SERIES_CD\"] = df_so_2425[\"SERIES_CD\"].fillna(\"NO_MATCH\")"
      ],
      "metadata": {
        "id": "MHofaiISc7xw"
      },
      "execution_count": null,
      "outputs": []
    },
    {
      "cell_type": "code",
      "source": [
        "no_match_count_so = (df_so_2425[\"SERIES_CD\"] == \"NO_MATCH\").sum()\n",
        "\n",
        "print(\"Cantidad de NO_MATCH en SERIES_CD para Quotations:\", no_match_count_so)"
      ],
      "metadata": {
        "colab": {
          "base_uri": "https://localhost:8080/"
        },
        "id": "AfBP0vvVdGQO",
        "outputId": "221ac0ea-0dfa-4087-9ed1-861fe7ddcae4"
      },
      "execution_count": null,
      "outputs": [
        {
          "output_type": "stream",
          "name": "stdout",
          "text": [
            "Cantidad de NO_MATCH en SERIES_CD para Quotations: 1175\n"
          ]
        }
      ]
    },
    {
      "cell_type": "code",
      "source": [
        "print(\"Porcentaje de valores faltantes del conjunto total de datos: \")\n",
        "print((no_match_count_so/df_so_2425.shape[0])*100, \"%\")"
      ],
      "metadata": {
        "colab": {
          "base_uri": "https://localhost:8080/"
        },
        "id": "XR0GeDbldUNn",
        "outputId": "5053b3b1-a26a-4be9-d36f-4a62f6d3415a"
      },
      "execution_count": null,
      "outputs": [
        {
          "output_type": "stream",
          "name": "stdout",
          "text": [
            "Porcentaje de valores faltantes del conjunto total de datos: \n",
            "61.45397489539749 %\n"
          ]
        }
      ]
    },
    {
      "cell_type": "markdown",
      "source": [
        "El 68.35% de los datos correspondientes al Series Code de los Part Numbers cotizados presenta un estado de NO_MATCH, así mismo existe un 61.45% de datos faltantes para los vendidos. Esto debido a que las relaciones no se encuentran en nuestro banco de datos \"df_cds_relation\".\n",
        "\n",
        "Para evitar omitir datos que pueden ser útiles para el análisis se realizará un scrapping web sobre los 2647 faltantes **Haciendo un HTTP request a MISUMI MX** y **Extrayendo el InnerCode para almacenarlo en el dataframe**\n",
        "\n",
        "Este proceso se realizará tanto para las Quotations, como para las Sales Order."
      ],
      "metadata": {
        "id": "E_ptzN56a3ZM"
      }
    },
    {
      "cell_type": "markdown",
      "source": [
        "##### Visualización de los Data Frames"
      ],
      "metadata": {
        "id": "HhSDkGQFeQ6b"
      }
    },
    {
      "cell_type": "code",
      "source": [
        "df_qt_2425.head(10)"
      ],
      "metadata": {
        "colab": {
          "base_uri": "https://localhost:8080/"
        },
        "id": "fwZzGjyjTjcM",
        "outputId": "9636ed6e-2a56-48f2-c8f5-52871263ae2a"
      },
      "execution_count": null,
      "outputs": [
        {
          "output_type": "execute_result",
          "data": {
            "text/plain": [
              "  CUSTOMER_CODE                 PRODUCT_CODE BRAND_CD     INNER_CD  QT_QTY  \\\n",
              "0        QU0516        CKFQSAHM5-P4.2-L10-B8     MSM1  30085861604       1   \n",
              "1        QU0516  CKFTAHH6-P7.98-L9-B4-E2-A15     MSM1  30085181794       2   \n",
              "2        QU0486        CKFQSAHM5-P4.2-L10-B8     MSM1  30085861604       2   \n",
              "3           WOS      CKFAPH6-P8-L6-B6-E3-A30     MSM1  30085180594       8   \n",
              "4           WOS     CKFDPH8-P10-L6-B6-E3-A30     MSM1  30085181265       8   \n",
              "5        QU0514     CKFAPH6-P8-L6-B10-E3-A30     MSM1  30085180594       1   \n",
              "6        QU0514    CKFDPH8-P10-L6-B10-E3-A30     MSM1  30085181265       1   \n",
              "7        QU0506         TRATDB6-P6.6-B15-A30     MSM1  30242930007       1   \n",
              "8        QU0469         TRATAB6-P6.7-B15-A30     MSM1  30242920007       1   \n",
              "9        QU0517   TELNSAB12-P14.0-B10-L5-A60     MSM1  30243820010       2   \n",
              "\n",
              "   PRODUCT_NAME     SERIES_CD  \n",
              "0  LOCATING PIN  110302661250  \n",
              "1  LOCATING PIN      NO_MATCH  \n",
              "2  LOCATING PIN  110302661250  \n",
              "3  LOCATING PIN  110302657140  \n",
              "4  LOCATING PIN  110302657140  \n",
              "5  LOCATING PIN  110302657140  \n",
              "6  LOCATING PIN  110302657140  \n",
              "7  LOCATING PIN      NO_MATCH  \n",
              "8  LOCATING PIN      NO_MATCH  \n",
              "9  LOCATING PIN      NO_MATCH  "
            ],
            "text/html": [
              "\n",
              "  <div id=\"df-4e23bbea-8252-4659-9483-463ac2854163\" class=\"colab-df-container\">\n",
              "    <div>\n",
              "<style scoped>\n",
              "    .dataframe tbody tr th:only-of-type {\n",
              "        vertical-align: middle;\n",
              "    }\n",
              "\n",
              "    .dataframe tbody tr th {\n",
              "        vertical-align: top;\n",
              "    }\n",
              "\n",
              "    .dataframe thead th {\n",
              "        text-align: right;\n",
              "    }\n",
              "</style>\n",
              "<table border=\"1\" class=\"dataframe\">\n",
              "  <thead>\n",
              "    <tr style=\"text-align: right;\">\n",
              "      <th></th>\n",
              "      <th>CUSTOMER_CODE</th>\n",
              "      <th>PRODUCT_CODE</th>\n",
              "      <th>BRAND_CD</th>\n",
              "      <th>INNER_CD</th>\n",
              "      <th>QT_QTY</th>\n",
              "      <th>PRODUCT_NAME</th>\n",
              "      <th>SERIES_CD</th>\n",
              "    </tr>\n",
              "  </thead>\n",
              "  <tbody>\n",
              "    <tr>\n",
              "      <th>0</th>\n",
              "      <td>QU0516</td>\n",
              "      <td>CKFQSAHM5-P4.2-L10-B8</td>\n",
              "      <td>MSM1</td>\n",
              "      <td>30085861604</td>\n",
              "      <td>1</td>\n",
              "      <td>LOCATING PIN</td>\n",
              "      <td>110302661250</td>\n",
              "    </tr>\n",
              "    <tr>\n",
              "      <th>1</th>\n",
              "      <td>QU0516</td>\n",
              "      <td>CKFTAHH6-P7.98-L9-B4-E2-A15</td>\n",
              "      <td>MSM1</td>\n",
              "      <td>30085181794</td>\n",
              "      <td>2</td>\n",
              "      <td>LOCATING PIN</td>\n",
              "      <td>NO_MATCH</td>\n",
              "    </tr>\n",
              "    <tr>\n",
              "      <th>2</th>\n",
              "      <td>QU0486</td>\n",
              "      <td>CKFQSAHM5-P4.2-L10-B8</td>\n",
              "      <td>MSM1</td>\n",
              "      <td>30085861604</td>\n",
              "      <td>2</td>\n",
              "      <td>LOCATING PIN</td>\n",
              "      <td>110302661250</td>\n",
              "    </tr>\n",
              "    <tr>\n",
              "      <th>3</th>\n",
              "      <td>WOS</td>\n",
              "      <td>CKFAPH6-P8-L6-B6-E3-A30</td>\n",
              "      <td>MSM1</td>\n",
              "      <td>30085180594</td>\n",
              "      <td>8</td>\n",
              "      <td>LOCATING PIN</td>\n",
              "      <td>110302657140</td>\n",
              "    </tr>\n",
              "    <tr>\n",
              "      <th>4</th>\n",
              "      <td>WOS</td>\n",
              "      <td>CKFDPH8-P10-L6-B6-E3-A30</td>\n",
              "      <td>MSM1</td>\n",
              "      <td>30085181265</td>\n",
              "      <td>8</td>\n",
              "      <td>LOCATING PIN</td>\n",
              "      <td>110302657140</td>\n",
              "    </tr>\n",
              "    <tr>\n",
              "      <th>5</th>\n",
              "      <td>QU0514</td>\n",
              "      <td>CKFAPH6-P8-L6-B10-E3-A30</td>\n",
              "      <td>MSM1</td>\n",
              "      <td>30085180594</td>\n",
              "      <td>1</td>\n",
              "      <td>LOCATING PIN</td>\n",
              "      <td>110302657140</td>\n",
              "    </tr>\n",
              "    <tr>\n",
              "      <th>6</th>\n",
              "      <td>QU0514</td>\n",
              "      <td>CKFDPH8-P10-L6-B10-E3-A30</td>\n",
              "      <td>MSM1</td>\n",
              "      <td>30085181265</td>\n",
              "      <td>1</td>\n",
              "      <td>LOCATING PIN</td>\n",
              "      <td>110302657140</td>\n",
              "    </tr>\n",
              "    <tr>\n",
              "      <th>7</th>\n",
              "      <td>QU0506</td>\n",
              "      <td>TRATDB6-P6.6-B15-A30</td>\n",
              "      <td>MSM1</td>\n",
              "      <td>30242930007</td>\n",
              "      <td>1</td>\n",
              "      <td>LOCATING PIN</td>\n",
              "      <td>NO_MATCH</td>\n",
              "    </tr>\n",
              "    <tr>\n",
              "      <th>8</th>\n",
              "      <td>QU0469</td>\n",
              "      <td>TRATAB6-P6.7-B15-A30</td>\n",
              "      <td>MSM1</td>\n",
              "      <td>30242920007</td>\n",
              "      <td>1</td>\n",
              "      <td>LOCATING PIN</td>\n",
              "      <td>NO_MATCH</td>\n",
              "    </tr>\n",
              "    <tr>\n",
              "      <th>9</th>\n",
              "      <td>QU0517</td>\n",
              "      <td>TELNSAB12-P14.0-B10-L5-A60</td>\n",
              "      <td>MSM1</td>\n",
              "      <td>30243820010</td>\n",
              "      <td>2</td>\n",
              "      <td>LOCATING PIN</td>\n",
              "      <td>NO_MATCH</td>\n",
              "    </tr>\n",
              "  </tbody>\n",
              "</table>\n",
              "</div>\n",
              "    <div class=\"colab-df-buttons\">\n",
              "\n",
              "  <div class=\"colab-df-container\">\n",
              "    <button class=\"colab-df-convert\" onclick=\"convertToInteractive('df-4e23bbea-8252-4659-9483-463ac2854163')\"\n",
              "            title=\"Convert this dataframe to an interactive table.\"\n",
              "            style=\"display:none;\">\n",
              "\n",
              "  <svg xmlns=\"http://www.w3.org/2000/svg\" height=\"24px\" viewBox=\"0 -960 960 960\">\n",
              "    <path d=\"M120-120v-720h720v720H120Zm60-500h600v-160H180v160Zm220 220h160v-160H400v160Zm0 220h160v-160H400v160ZM180-400h160v-160H180v160Zm440 0h160v-160H620v160ZM180-180h160v-160H180v160Zm440 0h160v-160H620v160Z\"/>\n",
              "  </svg>\n",
              "    </button>\n",
              "\n",
              "  <style>\n",
              "    .colab-df-container {\n",
              "      display:flex;\n",
              "      gap: 12px;\n",
              "    }\n",
              "\n",
              "    .colab-df-convert {\n",
              "      background-color: #E8F0FE;\n",
              "      border: none;\n",
              "      border-radius: 50%;\n",
              "      cursor: pointer;\n",
              "      display: none;\n",
              "      fill: #1967D2;\n",
              "      height: 32px;\n",
              "      padding: 0 0 0 0;\n",
              "      width: 32px;\n",
              "    }\n",
              "\n",
              "    .colab-df-convert:hover {\n",
              "      background-color: #E2EBFA;\n",
              "      box-shadow: 0px 1px 2px rgba(60, 64, 67, 0.3), 0px 1px 3px 1px rgba(60, 64, 67, 0.15);\n",
              "      fill: #174EA6;\n",
              "    }\n",
              "\n",
              "    .colab-df-buttons div {\n",
              "      margin-bottom: 4px;\n",
              "    }\n",
              "\n",
              "    [theme=dark] .colab-df-convert {\n",
              "      background-color: #3B4455;\n",
              "      fill: #D2E3FC;\n",
              "    }\n",
              "\n",
              "    [theme=dark] .colab-df-convert:hover {\n",
              "      background-color: #434B5C;\n",
              "      box-shadow: 0px 1px 3px 1px rgba(0, 0, 0, 0.15);\n",
              "      filter: drop-shadow(0px 1px 2px rgba(0, 0, 0, 0.3));\n",
              "      fill: #FFFFFF;\n",
              "    }\n",
              "  </style>\n",
              "\n",
              "    <script>\n",
              "      const buttonEl =\n",
              "        document.querySelector('#df-4e23bbea-8252-4659-9483-463ac2854163 button.colab-df-convert');\n",
              "      buttonEl.style.display =\n",
              "        google.colab.kernel.accessAllowed ? 'block' : 'none';\n",
              "\n",
              "      async function convertToInteractive(key) {\n",
              "        const element = document.querySelector('#df-4e23bbea-8252-4659-9483-463ac2854163');\n",
              "        const dataTable =\n",
              "          await google.colab.kernel.invokeFunction('convertToInteractive',\n",
              "                                                    [key], {});\n",
              "        if (!dataTable) return;\n",
              "\n",
              "        const docLinkHtml = 'Like what you see? Visit the ' +\n",
              "          '<a target=\"_blank\" href=https://colab.research.google.com/notebooks/data_table.ipynb>data table notebook</a>'\n",
              "          + ' to learn more about interactive tables.';\n",
              "        element.innerHTML = '';\n",
              "        dataTable['output_type'] = 'display_data';\n",
              "        await google.colab.output.renderOutput(dataTable, element);\n",
              "        const docLink = document.createElement('div');\n",
              "        docLink.innerHTML = docLinkHtml;\n",
              "        element.appendChild(docLink);\n",
              "      }\n",
              "    </script>\n",
              "  </div>\n",
              "\n",
              "\n",
              "    <div id=\"df-ca839522-81fe-42aa-8963-e40e1de0b292\">\n",
              "      <button class=\"colab-df-quickchart\" onclick=\"quickchart('df-ca839522-81fe-42aa-8963-e40e1de0b292')\"\n",
              "                title=\"Suggest charts\"\n",
              "                style=\"display:none;\">\n",
              "\n",
              "<svg xmlns=\"http://www.w3.org/2000/svg\" height=\"24px\"viewBox=\"0 0 24 24\"\n",
              "     width=\"24px\">\n",
              "    <g>\n",
              "        <path d=\"M19 3H5c-1.1 0-2 .9-2 2v14c0 1.1.9 2 2 2h14c1.1 0 2-.9 2-2V5c0-1.1-.9-2-2-2zM9 17H7v-7h2v7zm4 0h-2V7h2v10zm4 0h-2v-4h2v4z\"/>\n",
              "    </g>\n",
              "</svg>\n",
              "      </button>\n",
              "\n",
              "<style>\n",
              "  .colab-df-quickchart {\n",
              "      --bg-color: #E8F0FE;\n",
              "      --fill-color: #1967D2;\n",
              "      --hover-bg-color: #E2EBFA;\n",
              "      --hover-fill-color: #174EA6;\n",
              "      --disabled-fill-color: #AAA;\n",
              "      --disabled-bg-color: #DDD;\n",
              "  }\n",
              "\n",
              "  [theme=dark] .colab-df-quickchart {\n",
              "      --bg-color: #3B4455;\n",
              "      --fill-color: #D2E3FC;\n",
              "      --hover-bg-color: #434B5C;\n",
              "      --hover-fill-color: #FFFFFF;\n",
              "      --disabled-bg-color: #3B4455;\n",
              "      --disabled-fill-color: #666;\n",
              "  }\n",
              "\n",
              "  .colab-df-quickchart {\n",
              "    background-color: var(--bg-color);\n",
              "    border: none;\n",
              "    border-radius: 50%;\n",
              "    cursor: pointer;\n",
              "    display: none;\n",
              "    fill: var(--fill-color);\n",
              "    height: 32px;\n",
              "    padding: 0;\n",
              "    width: 32px;\n",
              "  }\n",
              "\n",
              "  .colab-df-quickchart:hover {\n",
              "    background-color: var(--hover-bg-color);\n",
              "    box-shadow: 0 1px 2px rgba(60, 64, 67, 0.3), 0 1px 3px 1px rgba(60, 64, 67, 0.15);\n",
              "    fill: var(--button-hover-fill-color);\n",
              "  }\n",
              "\n",
              "  .colab-df-quickchart-complete:disabled,\n",
              "  .colab-df-quickchart-complete:disabled:hover {\n",
              "    background-color: var(--disabled-bg-color);\n",
              "    fill: var(--disabled-fill-color);\n",
              "    box-shadow: none;\n",
              "  }\n",
              "\n",
              "  .colab-df-spinner {\n",
              "    border: 2px solid var(--fill-color);\n",
              "    border-color: transparent;\n",
              "    border-bottom-color: var(--fill-color);\n",
              "    animation:\n",
              "      spin 1s steps(1) infinite;\n",
              "  }\n",
              "\n",
              "  @keyframes spin {\n",
              "    0% {\n",
              "      border-color: transparent;\n",
              "      border-bottom-color: var(--fill-color);\n",
              "      border-left-color: var(--fill-color);\n",
              "    }\n",
              "    20% {\n",
              "      border-color: transparent;\n",
              "      border-left-color: var(--fill-color);\n",
              "      border-top-color: var(--fill-color);\n",
              "    }\n",
              "    30% {\n",
              "      border-color: transparent;\n",
              "      border-left-color: var(--fill-color);\n",
              "      border-top-color: var(--fill-color);\n",
              "      border-right-color: var(--fill-color);\n",
              "    }\n",
              "    40% {\n",
              "      border-color: transparent;\n",
              "      border-right-color: var(--fill-color);\n",
              "      border-top-color: var(--fill-color);\n",
              "    }\n",
              "    60% {\n",
              "      border-color: transparent;\n",
              "      border-right-color: var(--fill-color);\n",
              "    }\n",
              "    80% {\n",
              "      border-color: transparent;\n",
              "      border-right-color: var(--fill-color);\n",
              "      border-bottom-color: var(--fill-color);\n",
              "    }\n",
              "    90% {\n",
              "      border-color: transparent;\n",
              "      border-bottom-color: var(--fill-color);\n",
              "    }\n",
              "  }\n",
              "</style>\n",
              "\n",
              "      <script>\n",
              "        async function quickchart(key) {\n",
              "          const quickchartButtonEl =\n",
              "            document.querySelector('#' + key + ' button');\n",
              "          quickchartButtonEl.disabled = true;  // To prevent multiple clicks.\n",
              "          quickchartButtonEl.classList.add('colab-df-spinner');\n",
              "          try {\n",
              "            const charts = await google.colab.kernel.invokeFunction(\n",
              "                'suggestCharts', [key], {});\n",
              "          } catch (error) {\n",
              "            console.error('Error during call to suggestCharts:', error);\n",
              "          }\n",
              "          quickchartButtonEl.classList.remove('colab-df-spinner');\n",
              "          quickchartButtonEl.classList.add('colab-df-quickchart-complete');\n",
              "        }\n",
              "        (() => {\n",
              "          let quickchartButtonEl =\n",
              "            document.querySelector('#df-ca839522-81fe-42aa-8963-e40e1de0b292 button');\n",
              "          quickchartButtonEl.style.display =\n",
              "            google.colab.kernel.accessAllowed ? 'block' : 'none';\n",
              "        })();\n",
              "      </script>\n",
              "    </div>\n",
              "\n",
              "    </div>\n",
              "  </div>\n"
            ],
            "application/vnd.google.colaboratory.intrinsic+json": {
              "type": "dataframe",
              "variable_name": "df_qt_2425",
              "summary": "{\n  \"name\": \"df_qt_2425\",\n  \"rows\": 3912,\n  \"fields\": [\n    {\n      \"column\": \"CUSTOMER_CODE\",\n      \"properties\": {\n        \"dtype\": \"category\",\n        \"num_unique_values\": 16,\n        \"samples\": [\n          \"QU0516\",\n          \"QU0486\",\n          \"QU0469\"\n        ],\n        \"semantic_type\": \"\",\n        \"description\": \"\"\n      }\n    },\n    {\n      \"column\": \"PRODUCT_CODE\",\n      \"properties\": {\n        \"dtype\": \"category\",\n        \"num_unique_values\": 1871,\n        \"samples\": [\n          \"LSPHRCC8-L30.00-P3.80-B3.0\",\n          \"KFPBAPG3-P3.4-L5-B3-E2-R5\",\n          \"TLANDN10-P9.8-B20-L12\"\n        ],\n        \"semantic_type\": \"\",\n        \"description\": \"\"\n      }\n    },\n    {\n      \"column\": \"BRAND_CD\",\n      \"properties\": {\n        \"dtype\": \"category\",\n        \"num_unique_values\": 1,\n        \"samples\": [\n          \"MSM1\"\n        ],\n        \"semantic_type\": \"\",\n        \"description\": \"\"\n      }\n    },\n    {\n      \"column\": \"INNER_CD\",\n      \"properties\": {\n        \"dtype\": \"category\",\n        \"num_unique_values\": 997,\n        \"samples\": [\n          \"30283910013\"\n        ],\n        \"semantic_type\": \"\",\n        \"description\": \"\"\n      }\n    },\n    {\n      \"column\": \"QT_QTY\",\n      \"properties\": {\n        \"dtype\": \"number\",\n        \"std\": 16,\n        \"min\": 1,\n        \"max\": 360,\n        \"num_unique_values\": 57,\n        \"samples\": [\n          1\n        ],\n        \"semantic_type\": \"\",\n        \"description\": \"\"\n      }\n    },\n    {\n      \"column\": \"PRODUCT_NAME\",\n      \"properties\": {\n        \"dtype\": \"category\",\n        \"num_unique_values\": 1,\n        \"samples\": [\n          \"LOCATING PIN\"\n        ],\n        \"semantic_type\": \"\",\n        \"description\": \"\"\n      }\n    },\n    {\n      \"column\": \"SERIES_CD\",\n      \"properties\": {\n        \"dtype\": \"category\",\n        \"num_unique_values\": 58,\n        \"samples\": [\n          \"110302661250\"\n        ],\n        \"semantic_type\": \"\",\n        \"description\": \"\"\n      }\n    }\n  ]\n}"
            }
          },
          "metadata": {},
          "execution_count": 426
        }
      ]
    },
    {
      "cell_type": "code",
      "source": [
        "df_so_2425.head(10)"
      ],
      "metadata": {
        "colab": {
          "base_uri": "https://localhost:8080/"
        },
        "id": "8XE8jQmHd3Wq",
        "outputId": "6f14e0c1-fbaa-48d3-c1b3-d06a3d8fa7ed"
      },
      "execution_count": null,
      "outputs": [
        {
          "output_type": "execute_result",
          "data": {
            "text/plain": [
              "  CUSTOMER_CODE                PRODUCT_CODE BRAND_CD     INNER_CD  SO_QTY  \\\n",
              "0           WOS    SPSST3-L8-P1.5-B11-H5-T2     MSM1  30259350003       5   \n",
              "1        QU0514            JPNGB6-P8-B10-G5     MSM1  30086010013       1   \n",
              "2           WOS   TELNNA10-P16-B8-L12-MK-KD     MSM1  30006320001       2   \n",
              "3           WOS        TELNND10-P12-B12-L12     MSM1  30006480001       2   \n",
              "4        QU0550                    SLPT5-15     MSM1  30085010001       8   \n",
              "5        QU0514           GJPNGB3-P7-B10-G6     MSM1  30086020010       1   \n",
              "6        QU0516  KFTDHH8-P12-L12-B10-E4-A15     MSM1  30085181935       8   \n",
              "7        QU0516  KFTAHH8-P12-L12-B10-E4-A15     MSM1  30085181515       6   \n",
              "8           WOS  KFSTDGP5-P3.3-L8-B5-E1-A30     MSM1  30085193839       2   \n",
              "9           WOS  KFSTAGP5-P3.3-L8-B5-E1-A30     MSM1  30085193819       2   \n",
              "\n",
              "   PRODUCT_NAME     SERIES_CD  \n",
              "0  LOCATING PIN      NO_MATCH  \n",
              "1  LOCATING PIN  110302194710  \n",
              "2  LOCATING PIN      NO_MATCH  \n",
              "3  LOCATING PIN      NO_MATCH  \n",
              "4  LOCATING PIN  110302664050  \n",
              "5  LOCATING PIN      NO_MATCH  \n",
              "6  LOCATING PIN      NO_MATCH  \n",
              "7  LOCATING PIN  110302657320  \n",
              "8  LOCATING PIN  110302660820  \n",
              "9  LOCATING PIN  110302660820  "
            ],
            "text/html": [
              "\n",
              "  <div id=\"df-f94ab0b0-a346-429f-adde-df8be86f58b7\" class=\"colab-df-container\">\n",
              "    <div>\n",
              "<style scoped>\n",
              "    .dataframe tbody tr th:only-of-type {\n",
              "        vertical-align: middle;\n",
              "    }\n",
              "\n",
              "    .dataframe tbody tr th {\n",
              "        vertical-align: top;\n",
              "    }\n",
              "\n",
              "    .dataframe thead th {\n",
              "        text-align: right;\n",
              "    }\n",
              "</style>\n",
              "<table border=\"1\" class=\"dataframe\">\n",
              "  <thead>\n",
              "    <tr style=\"text-align: right;\">\n",
              "      <th></th>\n",
              "      <th>CUSTOMER_CODE</th>\n",
              "      <th>PRODUCT_CODE</th>\n",
              "      <th>BRAND_CD</th>\n",
              "      <th>INNER_CD</th>\n",
              "      <th>SO_QTY</th>\n",
              "      <th>PRODUCT_NAME</th>\n",
              "      <th>SERIES_CD</th>\n",
              "    </tr>\n",
              "  </thead>\n",
              "  <tbody>\n",
              "    <tr>\n",
              "      <th>0</th>\n",
              "      <td>WOS</td>\n",
              "      <td>SPSST3-L8-P1.5-B11-H5-T2</td>\n",
              "      <td>MSM1</td>\n",
              "      <td>30259350003</td>\n",
              "      <td>5</td>\n",
              "      <td>LOCATING PIN</td>\n",
              "      <td>NO_MATCH</td>\n",
              "    </tr>\n",
              "    <tr>\n",
              "      <th>1</th>\n",
              "      <td>QU0514</td>\n",
              "      <td>JPNGB6-P8-B10-G5</td>\n",
              "      <td>MSM1</td>\n",
              "      <td>30086010013</td>\n",
              "      <td>1</td>\n",
              "      <td>LOCATING PIN</td>\n",
              "      <td>110302194710</td>\n",
              "    </tr>\n",
              "    <tr>\n",
              "      <th>2</th>\n",
              "      <td>WOS</td>\n",
              "      <td>TELNNA10-P16-B8-L12-MK-KD</td>\n",
              "      <td>MSM1</td>\n",
              "      <td>30006320001</td>\n",
              "      <td>2</td>\n",
              "      <td>LOCATING PIN</td>\n",
              "      <td>NO_MATCH</td>\n",
              "    </tr>\n",
              "    <tr>\n",
              "      <th>3</th>\n",
              "      <td>WOS</td>\n",
              "      <td>TELNND10-P12-B12-L12</td>\n",
              "      <td>MSM1</td>\n",
              "      <td>30006480001</td>\n",
              "      <td>2</td>\n",
              "      <td>LOCATING PIN</td>\n",
              "      <td>NO_MATCH</td>\n",
              "    </tr>\n",
              "    <tr>\n",
              "      <th>4</th>\n",
              "      <td>QU0550</td>\n",
              "      <td>SLPT5-15</td>\n",
              "      <td>MSM1</td>\n",
              "      <td>30085010001</td>\n",
              "      <td>8</td>\n",
              "      <td>LOCATING PIN</td>\n",
              "      <td>110302664050</td>\n",
              "    </tr>\n",
              "    <tr>\n",
              "      <th>5</th>\n",
              "      <td>QU0514</td>\n",
              "      <td>GJPNGB3-P7-B10-G6</td>\n",
              "      <td>MSM1</td>\n",
              "      <td>30086020010</td>\n",
              "      <td>1</td>\n",
              "      <td>LOCATING PIN</td>\n",
              "      <td>NO_MATCH</td>\n",
              "    </tr>\n",
              "    <tr>\n",
              "      <th>6</th>\n",
              "      <td>QU0516</td>\n",
              "      <td>KFTDHH8-P12-L12-B10-E4-A15</td>\n",
              "      <td>MSM1</td>\n",
              "      <td>30085181935</td>\n",
              "      <td>8</td>\n",
              "      <td>LOCATING PIN</td>\n",
              "      <td>NO_MATCH</td>\n",
              "    </tr>\n",
              "    <tr>\n",
              "      <th>7</th>\n",
              "      <td>QU0516</td>\n",
              "      <td>KFTAHH8-P12-L12-B10-E4-A15</td>\n",
              "      <td>MSM1</td>\n",
              "      <td>30085181515</td>\n",
              "      <td>6</td>\n",
              "      <td>LOCATING PIN</td>\n",
              "      <td>110302657320</td>\n",
              "    </tr>\n",
              "    <tr>\n",
              "      <th>8</th>\n",
              "      <td>WOS</td>\n",
              "      <td>KFSTDGP5-P3.3-L8-B5-E1-A30</td>\n",
              "      <td>MSM1</td>\n",
              "      <td>30085193839</td>\n",
              "      <td>2</td>\n",
              "      <td>LOCATING PIN</td>\n",
              "      <td>110302660820</td>\n",
              "    </tr>\n",
              "    <tr>\n",
              "      <th>9</th>\n",
              "      <td>WOS</td>\n",
              "      <td>KFSTAGP5-P3.3-L8-B5-E1-A30</td>\n",
              "      <td>MSM1</td>\n",
              "      <td>30085193819</td>\n",
              "      <td>2</td>\n",
              "      <td>LOCATING PIN</td>\n",
              "      <td>110302660820</td>\n",
              "    </tr>\n",
              "  </tbody>\n",
              "</table>\n",
              "</div>\n",
              "    <div class=\"colab-df-buttons\">\n",
              "\n",
              "  <div class=\"colab-df-container\">\n",
              "    <button class=\"colab-df-convert\" onclick=\"convertToInteractive('df-f94ab0b0-a346-429f-adde-df8be86f58b7')\"\n",
              "            title=\"Convert this dataframe to an interactive table.\"\n",
              "            style=\"display:none;\">\n",
              "\n",
              "  <svg xmlns=\"http://www.w3.org/2000/svg\" height=\"24px\" viewBox=\"0 -960 960 960\">\n",
              "    <path d=\"M120-120v-720h720v720H120Zm60-500h600v-160H180v160Zm220 220h160v-160H400v160Zm0 220h160v-160H400v160ZM180-400h160v-160H180v160Zm440 0h160v-160H620v160ZM180-180h160v-160H180v160Zm440 0h160v-160H620v160Z\"/>\n",
              "  </svg>\n",
              "    </button>\n",
              "\n",
              "  <style>\n",
              "    .colab-df-container {\n",
              "      display:flex;\n",
              "      gap: 12px;\n",
              "    }\n",
              "\n",
              "    .colab-df-convert {\n",
              "      background-color: #E8F0FE;\n",
              "      border: none;\n",
              "      border-radius: 50%;\n",
              "      cursor: pointer;\n",
              "      display: none;\n",
              "      fill: #1967D2;\n",
              "      height: 32px;\n",
              "      padding: 0 0 0 0;\n",
              "      width: 32px;\n",
              "    }\n",
              "\n",
              "    .colab-df-convert:hover {\n",
              "      background-color: #E2EBFA;\n",
              "      box-shadow: 0px 1px 2px rgba(60, 64, 67, 0.3), 0px 1px 3px 1px rgba(60, 64, 67, 0.15);\n",
              "      fill: #174EA6;\n",
              "    }\n",
              "\n",
              "    .colab-df-buttons div {\n",
              "      margin-bottom: 4px;\n",
              "    }\n",
              "\n",
              "    [theme=dark] .colab-df-convert {\n",
              "      background-color: #3B4455;\n",
              "      fill: #D2E3FC;\n",
              "    }\n",
              "\n",
              "    [theme=dark] .colab-df-convert:hover {\n",
              "      background-color: #434B5C;\n",
              "      box-shadow: 0px 1px 3px 1px rgba(0, 0, 0, 0.15);\n",
              "      filter: drop-shadow(0px 1px 2px rgba(0, 0, 0, 0.3));\n",
              "      fill: #FFFFFF;\n",
              "    }\n",
              "  </style>\n",
              "\n",
              "    <script>\n",
              "      const buttonEl =\n",
              "        document.querySelector('#df-f94ab0b0-a346-429f-adde-df8be86f58b7 button.colab-df-convert');\n",
              "      buttonEl.style.display =\n",
              "        google.colab.kernel.accessAllowed ? 'block' : 'none';\n",
              "\n",
              "      async function convertToInteractive(key) {\n",
              "        const element = document.querySelector('#df-f94ab0b0-a346-429f-adde-df8be86f58b7');\n",
              "        const dataTable =\n",
              "          await google.colab.kernel.invokeFunction('convertToInteractive',\n",
              "                                                    [key], {});\n",
              "        if (!dataTable) return;\n",
              "\n",
              "        const docLinkHtml = 'Like what you see? Visit the ' +\n",
              "          '<a target=\"_blank\" href=https://colab.research.google.com/notebooks/data_table.ipynb>data table notebook</a>'\n",
              "          + ' to learn more about interactive tables.';\n",
              "        element.innerHTML = '';\n",
              "        dataTable['output_type'] = 'display_data';\n",
              "        await google.colab.output.renderOutput(dataTable, element);\n",
              "        const docLink = document.createElement('div');\n",
              "        docLink.innerHTML = docLinkHtml;\n",
              "        element.appendChild(docLink);\n",
              "      }\n",
              "    </script>\n",
              "  </div>\n",
              "\n",
              "\n",
              "    <div id=\"df-821ec7d7-dfe8-44f7-bf3f-aee1f15add75\">\n",
              "      <button class=\"colab-df-quickchart\" onclick=\"quickchart('df-821ec7d7-dfe8-44f7-bf3f-aee1f15add75')\"\n",
              "                title=\"Suggest charts\"\n",
              "                style=\"display:none;\">\n",
              "\n",
              "<svg xmlns=\"http://www.w3.org/2000/svg\" height=\"24px\"viewBox=\"0 0 24 24\"\n",
              "     width=\"24px\">\n",
              "    <g>\n",
              "        <path d=\"M19 3H5c-1.1 0-2 .9-2 2v14c0 1.1.9 2 2 2h14c1.1 0 2-.9 2-2V5c0-1.1-.9-2-2-2zM9 17H7v-7h2v7zm4 0h-2V7h2v10zm4 0h-2v-4h2v4z\"/>\n",
              "    </g>\n",
              "</svg>\n",
              "      </button>\n",
              "\n",
              "<style>\n",
              "  .colab-df-quickchart {\n",
              "      --bg-color: #E8F0FE;\n",
              "      --fill-color: #1967D2;\n",
              "      --hover-bg-color: #E2EBFA;\n",
              "      --hover-fill-color: #174EA6;\n",
              "      --disabled-fill-color: #AAA;\n",
              "      --disabled-bg-color: #DDD;\n",
              "  }\n",
              "\n",
              "  [theme=dark] .colab-df-quickchart {\n",
              "      --bg-color: #3B4455;\n",
              "      --fill-color: #D2E3FC;\n",
              "      --hover-bg-color: #434B5C;\n",
              "      --hover-fill-color: #FFFFFF;\n",
              "      --disabled-bg-color: #3B4455;\n",
              "      --disabled-fill-color: #666;\n",
              "  }\n",
              "\n",
              "  .colab-df-quickchart {\n",
              "    background-color: var(--bg-color);\n",
              "    border: none;\n",
              "    border-radius: 50%;\n",
              "    cursor: pointer;\n",
              "    display: none;\n",
              "    fill: var(--fill-color);\n",
              "    height: 32px;\n",
              "    padding: 0;\n",
              "    width: 32px;\n",
              "  }\n",
              "\n",
              "  .colab-df-quickchart:hover {\n",
              "    background-color: var(--hover-bg-color);\n",
              "    box-shadow: 0 1px 2px rgba(60, 64, 67, 0.3), 0 1px 3px 1px rgba(60, 64, 67, 0.15);\n",
              "    fill: var(--button-hover-fill-color);\n",
              "  }\n",
              "\n",
              "  .colab-df-quickchart-complete:disabled,\n",
              "  .colab-df-quickchart-complete:disabled:hover {\n",
              "    background-color: var(--disabled-bg-color);\n",
              "    fill: var(--disabled-fill-color);\n",
              "    box-shadow: none;\n",
              "  }\n",
              "\n",
              "  .colab-df-spinner {\n",
              "    border: 2px solid var(--fill-color);\n",
              "    border-color: transparent;\n",
              "    border-bottom-color: var(--fill-color);\n",
              "    animation:\n",
              "      spin 1s steps(1) infinite;\n",
              "  }\n",
              "\n",
              "  @keyframes spin {\n",
              "    0% {\n",
              "      border-color: transparent;\n",
              "      border-bottom-color: var(--fill-color);\n",
              "      border-left-color: var(--fill-color);\n",
              "    }\n",
              "    20% {\n",
              "      border-color: transparent;\n",
              "      border-left-color: var(--fill-color);\n",
              "      border-top-color: var(--fill-color);\n",
              "    }\n",
              "    30% {\n",
              "      border-color: transparent;\n",
              "      border-left-color: var(--fill-color);\n",
              "      border-top-color: var(--fill-color);\n",
              "      border-right-color: var(--fill-color);\n",
              "    }\n",
              "    40% {\n",
              "      border-color: transparent;\n",
              "      border-right-color: var(--fill-color);\n",
              "      border-top-color: var(--fill-color);\n",
              "    }\n",
              "    60% {\n",
              "      border-color: transparent;\n",
              "      border-right-color: var(--fill-color);\n",
              "    }\n",
              "    80% {\n",
              "      border-color: transparent;\n",
              "      border-right-color: var(--fill-color);\n",
              "      border-bottom-color: var(--fill-color);\n",
              "    }\n",
              "    90% {\n",
              "      border-color: transparent;\n",
              "      border-bottom-color: var(--fill-color);\n",
              "    }\n",
              "  }\n",
              "</style>\n",
              "\n",
              "      <script>\n",
              "        async function quickchart(key) {\n",
              "          const quickchartButtonEl =\n",
              "            document.querySelector('#' + key + ' button');\n",
              "          quickchartButtonEl.disabled = true;  // To prevent multiple clicks.\n",
              "          quickchartButtonEl.classList.add('colab-df-spinner');\n",
              "          try {\n",
              "            const charts = await google.colab.kernel.invokeFunction(\n",
              "                'suggestCharts', [key], {});\n",
              "          } catch (error) {\n",
              "            console.error('Error during call to suggestCharts:', error);\n",
              "          }\n",
              "          quickchartButtonEl.classList.remove('colab-df-spinner');\n",
              "          quickchartButtonEl.classList.add('colab-df-quickchart-complete');\n",
              "        }\n",
              "        (() => {\n",
              "          let quickchartButtonEl =\n",
              "            document.querySelector('#df-821ec7d7-dfe8-44f7-bf3f-aee1f15add75 button');\n",
              "          quickchartButtonEl.style.display =\n",
              "            google.colab.kernel.accessAllowed ? 'block' : 'none';\n",
              "        })();\n",
              "      </script>\n",
              "    </div>\n",
              "\n",
              "    </div>\n",
              "  </div>\n"
            ],
            "application/vnd.google.colaboratory.intrinsic+json": {
              "type": "dataframe",
              "variable_name": "df_so_2425",
              "summary": "{\n  \"name\": \"df_so_2425\",\n  \"rows\": 1912,\n  \"fields\": [\n    {\n      \"column\": \"CUSTOMER_CODE\",\n      \"properties\": {\n        \"dtype\": \"category\",\n        \"num_unique_values\": 19,\n        \"samples\": [\n          \"WOS\",\n          \"QU0541\",\n          \"QU0544\"\n        ],\n        \"semantic_type\": \"\",\n        \"description\": \"\"\n      }\n    },\n    {\n      \"column\": \"PRODUCT_CODE\",\n      \"properties\": {\n        \"dtype\": \"string\",\n        \"num_unique_values\": 1254,\n        \"samples\": [\n          \"FPTMA16-P20-L10-B20\",\n          \"KFTAGG8-P10-L12-B15-E3-A15\",\n          \"SPSNT3-L8.0-P1.5-B12.0-H5.0-T2.0\"\n        ],\n        \"semantic_type\": \"\",\n        \"description\": \"\"\n      }\n    },\n    {\n      \"column\": \"BRAND_CD\",\n      \"properties\": {\n        \"dtype\": \"category\",\n        \"num_unique_values\": 1,\n        \"samples\": [\n          \"MSM1\"\n        ],\n        \"semantic_type\": \"\",\n        \"description\": \"\"\n      }\n    },\n    {\n      \"column\": \"INNER_CD\",\n      \"properties\": {\n        \"dtype\": \"category\",\n        \"num_unique_values\": 776,\n        \"samples\": [\n          \"30086160010\"\n        ],\n        \"semantic_type\": \"\",\n        \"description\": \"\"\n      }\n    },\n    {\n      \"column\": \"SO_QTY\",\n      \"properties\": {\n        \"dtype\": \"number\",\n        \"std\": 15,\n        \"min\": 1,\n        \"max\": 250,\n        \"num_unique_values\": 49,\n        \"samples\": [\n          9\n        ],\n        \"semantic_type\": \"\",\n        \"description\": \"\"\n      }\n    },\n    {\n      \"column\": \"PRODUCT_NAME\",\n      \"properties\": {\n        \"dtype\": \"category\",\n        \"num_unique_values\": 1,\n        \"samples\": [\n          \"LOCATING PIN\"\n        ],\n        \"semantic_type\": \"\",\n        \"description\": \"\"\n      }\n    },\n    {\n      \"column\": \"SERIES_CD\",\n      \"properties\": {\n        \"dtype\": \"category\",\n        \"num_unique_values\": 56,\n        \"samples\": [\n          \"NO_MATCH\"\n        ],\n        \"semantic_type\": \"\",\n        \"description\": \"\"\n      }\n    }\n  ]\n}"
            }
          },
          "metadata": {},
          "execution_count": 427
        }
      ]
    },
    {
      "cell_type": "markdown",
      "source": [
        "## **WEB SCRAPPING Y PREPROCESAMIENTO DE DATOS**\n",
        "\n",
        "**Obtención de datos por medio de webscrapping, estandarización e integración**\n",
        "\n",
        "Este bloque de código realiza un **enriquecimiento automático del DataFrame** mediante la búsqueda y actualización de códigos faltantes en la base de datos.  \n",
        "El proceso identifica los registros con `SERIES_CD = \"NO_MATCH\"` y utiliza un **web scraping paralelo** sobre el sitio web de **MISUMI México** para buscar cada `PRODUCT_CODE`.  \n",
        "\n",
        "Cuando se encuentra una coincidencia, el script extrae el `SERIES_CODE` directamente desde la URL del producto y lo utiliza para **actualizar el DataFrame original**.  \n",
        "De esta forma, se reemplazan valores faltantes por códigos válidos y se obtiene un **dataset más completo y confiable** para el análisis posterior.\n",
        "\n",
        "### Pipelines implementados:\n",
        "- **Quotation Pipeline:** proceso de enriquecimiento para el banco de cotizaciones.  \n",
        "- **Sales Order Pipeline:** proceso equivalente aplicado al banco de órdenes de venta.\n",
        "\n",
        "\n",
        "\n"
      ],
      "metadata": {
        "id": "g7Ndwg2Rd96b"
      }
    },
    {
      "cell_type": "markdown",
      "source": [
        "###### Quotation Pipeline"
      ],
      "metadata": {
        "id": "9dRrqESi1jVD"
      }
    },
    {
      "cell_type": "code",
      "source": [
        "UA = \"Mozilla/5.0 (X11; Linux x86_64) AppleWebKit/537.36 (KHTML, like Gecko) Chrome/120 Safari/537.36\"\n",
        "session = requests.Session()\n",
        "session.headers.update({\"User-Agent\": UA, \"Accept-Language\": \"es-MX,es;q=0.9,en;q=0.8\"})\n",
        "retry = Retry(total=3, backoff_factor=0.5, status_forcelist=[429, 500, 502, 503, 504])\n",
        "adapter = HTTPAdapter(max_retries=retry, pool_connections=100, pool_maxsize=100)\n",
        "session.mount(\"http://\", adapter)\n",
        "session.mount(\"https://\", adapter)\n",
        "\n",
        "detail_rx = re.compile(r\"/detail/(\\d+)/\")\n",
        "\n",
        "def extract_series_from_url(url: str):\n",
        "    m = detail_rx.search(url or \"\")\n",
        "    return m.group(1) if m else None\n",
        "\n",
        "def get_series_code_from_misumi(pn: str, timeout=12) -> str | None:\n",
        "    \"\"\"\n",
        "    1) Abre la búsqueda (deja seguir redirecciones).\n",
        "    2) Si la URL final ya es /vona2/detail/####/ -> extrae.\n",
        "    3) Si no, parsea el HTML y toma la primera liga a /vona2/detail/.\n",
        "    \"\"\"\n",
        "    kw = quote(str(pn))\n",
        "    search_urls = [\n",
        "        f\"https://mx.misumi-ec.com/es/search/?Keyword={kw}\",\n",
        "        f\"https://mx.misumi-ec.com/es/vona2/result/?Keyword={kw}\",\n",
        "    ]\n",
        "\n",
        "    for url in search_urls:\n",
        "        try:\n",
        "            r = session.get(url, allow_redirects=True, timeout=timeout)\n",
        "        except Exception:\n",
        "            continue\n",
        "\n",
        "        sc = extract_series_from_url(r.url)\n",
        "        if sc:\n",
        "            return sc\n",
        "\n",
        "        try:\n",
        "            soup = BeautifulSoup(r.text, \"lxml\")\n",
        "            link = soup.find(\"link\", rel=\"canonical\")\n",
        "            if link and link.get(\"href\"):\n",
        "                sc = extract_series_from_url(link[\"href\"])\n",
        "                if sc:\n",
        "                    return sc\n",
        "            a = soup.select_one('a[href*=\"/vona2/detail/\"]')\n",
        "            if a and a.get(\"href\"):\n",
        "                sc = extract_series_from_url(a[\"href\"])\n",
        "                if sc:\n",
        "                    return sc\n",
        "        except Exception:\n",
        "            pass\n",
        "\n",
        "    return None\n",
        "\n",
        "mask = (df_qt_2425[\"SERIES_CD\"] == \"NO_MATCH\")\n",
        "targets = df_qt_2425.loc[mask, \"PRODUCT_CODE\"].astype(str).str.strip()\n",
        "\n",
        "cache = {}\n",
        "\n",
        "def worker(pn):\n",
        "    if pn in cache:\n",
        "        return pn, cache[pn]\n",
        "    sc = get_series_code_from_misumi(pn)\n",
        "    cache[pn] = sc\n",
        "    return pn, sc\n",
        "\n",
        "unique_pns = targets.unique()\n",
        "found = {}\n",
        "\n",
        "with ThreadPoolExecutor(max_workers=12) as ex:\n",
        "    futures = {ex.submit(worker, pn): pn for pn in unique_pns}\n",
        "    for fut in tqdm(as_completed(futures), total=len(futures), desc=\"Buscando series en MISUMI\"):\n",
        "        pn, sc = fut.result()\n",
        "        if sc:\n",
        "            found[pn] = sc\n",
        "\n",
        "df_qt_2425.loc[mask, \"SERIES_CD\"] = df_qt_2425.loc[mask, \"PRODUCT_CODE\"].map(found).fillna(\"NO_MATCH\")\n",
        "\n",
        "total_no_match = (df_qt_2425[\"SERIES_CD\"] == \"NO_MATCH\").sum()\n",
        "print(f\"Actualizados: {len(found)}  |  NO_MATCH restantes: {total_no_match}  |  Total filas: {len(df_qt_2425)}\")\n",
        "\n"
      ],
      "metadata": {
        "colab": {
          "base_uri": "https://localhost:8080/",
          "height": 434,
          "referenced_widgets": [
            "87302f7bbe5949a0af37574b93011540",
            "3b349fe8205f4dda91196a9e8cff08b5",
            "da4e95b8ec5b4f1d875bf4b334f47535",
            "96a1d89b41254c7ca771a4d796376f03",
            "31d0a62df6d041018c6d49b1304326f8",
            "e2be964fce83454980aae02056bc4e95",
            "8f330983e0d244118d5fde77c16aa5c8",
            "cebbcdde64a740d484158eb19e77e984",
            "ffa483157e69450aa943272dafca5640",
            "cbbe322fe9114e458a4d65a742da3dc2",
            "0558d4d7bebd4f07b705990a9f258b48"
          ]
        },
        "id": "v5JTFfxEeBiQ",
        "outputId": "03e30bb2-4e81-4942-bb2f-50a87a64b572"
      },
      "execution_count": 428,
      "outputs": [
        {
          "data": {
            "application/vnd.jupyter.widget-view+json": {
              "model_id": "87302f7bbe5949a0af37574b93011540",
              "version_major": 2,
              "version_minor": 0
            },
            "text/plain": [
              "Buscando series en MISUMI:   0%|          | 0/1350 [00:00<?, ?it/s]"
            ]
          },
          "metadata": {},
          "output_type": "display_data"
        },
        {
          "output_type": "stream",
          "name": "stderr",
          "text": [
            "WARNING:urllib3.connectionpool:Retrying (Retry(total=2, connect=None, read=None, redirect=None, status=None)) after connection broken by 'ReadTimeoutError(\"HTTPSConnectionPool(host='mx.misumi-ec.com', port=443): Read timed out. (read timeout=12)\")': /es/vona2/result/?Keyword=D-LANA8-P7-B13-L12\n",
            "WARNING:urllib3.connectionpool:Retrying (Retry(total=2, connect=None, read=None, redirect=None, status=None)) after connection broken by 'ReadTimeoutError(\"HTTPSConnectionPool(host='mx.misumi-ec.com', port=443): Read timed out. (read timeout=12)\")': /es/vona2/result/?Keyword=TELATA10-P10.9-B30\n",
            "WARNING:urllib3.connectionpool:Retrying (Retry(total=2, connect=None, read=None, redirect=None, status=None)) after connection broken by 'ReadTimeoutError(\"HTTPSConnectionPool(host='mx.misumi-ec.com', port=443): Read timed out. (read timeout=12)\")': /es/vona2/result/?Keyword=PSBC-SH-D16-L35-R3-S14-V2-W10-M8\n",
            "WARNING:urllib3.connectionpool:Retrying (Retry(total=2, connect=None, read=None, redirect=None, status=None)) after connection broken by 'ReadTimeoutError(\"HTTPSConnectionPool(host='mx.misumi-ec.com', port=443): Read timed out. (read timeout=12)\")': /es/vona2/result/?Keyword=PSMC-SK-D5-P6.8-B33-L8-H10-T3-E3-A30-J12-M5\n",
            "WARNING:urllib3.connectionpool:Retrying (Retry(total=2, connect=None, read=None, redirect=None, status=None)) after connection broken by 'ReadTimeoutError(\"HTTPSConnectionPool(host='mx.misumi-ec.com', port=443): Read timed out. (read timeout=12)\")': /es/vona2/result/?Keyword=PSMK-SKR-D5-P5.95-B5.5-L8-H8-T2-E1-A30-K1-F4-W1.5\n",
            "WARNING:urllib3.connectionpool:Retrying (Retry(total=1, connect=None, read=None, redirect=None, status=None)) after connection broken by 'ReadTimeoutError(\"HTTPSConnectionPool(host='mx.misumi-ec.com', port=443): Read timed out. (read timeout=12)\")': /es/vona2/result/?Keyword=PSMC-SK-D5-P6.8-B33-L8-H10-T3-E3-A30-J12-M5\n",
            "WARNING:urllib3.connectionpool:Retrying (Retry(total=1, connect=None, read=None, redirect=None, status=None)) after connection broken by 'ReadTimeoutError(\"HTTPSConnectionPool(host='mx.misumi-ec.com', port=443): Read timed out. (read timeout=12)\")': /es/vona2/result/?Keyword=PSMK-SKR-D5-P5.95-B5.5-L8-H8-T2-E1-A30-K1-F4-W1.5\n",
            "WARNING:urllib3.connectionpool:Retrying (Retry(total=2, connect=None, read=None, redirect=None, status=None)) after connection broken by 'ReadTimeoutError(\"HTTPSConnectionPool(host='mx.misumi-ec.com', port=443): Read timed out. (read timeout=12)\")': /es/vona2/result/?Keyword=SPSNT4-L8.0-P2.8-B20.0-H6.0-T2.0\n",
            "WARNING:urllib3.connectionpool:Retrying (Retry(total=2, connect=None, read=None, redirect=None, status=None)) after connection broken by 'ReadTimeoutError(\"HTTPSConnectionPool(host='mx.misumi-ec.com', port=443): Read timed out. (read timeout=12)\")': /es/vona2/result/?Keyword=GFPQA6-P8.7-L12-B10\n",
            "WARNING:urllib3.connectionpool:Retrying (Retry(total=2, connect=None, read=None, redirect=None, status=None)) after connection broken by 'ReadTimeoutError(\"HTTPSConnectionPool(host='mx.misumi-ec.com', port=443): Read timed out. (read timeout=12)\")': /es/vona2/result/?Keyword=TRANAB10-P10.0-B26-L12-A30\n",
            "WARNING:urllib3.connectionpool:Retrying (Retry(total=2, connect=None, read=None, redirect=None, status=None)) after connection broken by 'ReadTimeoutError(\"HTTPSConnectionPool(host='mx.misumi-ec.com', port=443): Read timed out. (read timeout=12)\")': /es/vona2/result/?Keyword=KFAGH8-P10.4-L11-B5.0-E1.0-A45\n",
            "WARNING:urllib3.connectionpool:Retrying (Retry(total=2, connect=None, read=None, redirect=None, status=None)) after connection broken by 'ReadTimeoutError(\"HTTPSConnectionPool(host='mx.misumi-ec.com', port=443): Read timed out. (read timeout=12)\")': /es/vona2/result/?Keyword=PSKB-SK-D6-P4.88-B5-L6-E1-A30-W2-ZC2.5\n",
            "WARNING:urllib3.connectionpool:Retrying (Retry(total=2, connect=None, read=None, redirect=None, status=None)) after connection broken by 'ReadTimeoutError(\"HTTPSConnectionPool(host='mx.misumi-ec.com', port=443): Read timed out. (read timeout=12)\")': /es/vona2/result/?Keyword=THATDB8-P6.0-B24-L20\n",
            "WARNING:urllib3.connectionpool:Retrying (Retry(total=2, connect=None, read=None, redirect=None, status=None)) after connection broken by 'ReadTimeoutError(\"HTTPSConnectionPool(host='mx.misumi-ec.com', port=443): Read timed out. (read timeout=12)\")': /es/vona2/result/?Keyword=CHXHM12-P9.5-B14-L10-F8\n",
            "WARNING:urllib3.connectionpool:Retrying (Retry(total=2, connect=None, read=None, redirect=None, status=None)) after connection broken by 'ReadTimeoutError(\"HTTPSConnectionPool(host='mx.misumi-ec.com', port=443): Read timed out. (read timeout=12)\")': /es/vona2/result/?Keyword=CHXHM12-P9.5-B14-L10-F6\n",
            "WARNING:urllib3.connectionpool:Retrying (Retry(total=2, connect=None, read=None, redirect=None, status=None)) after connection broken by 'ReadTimeoutError(\"HTTPSConnectionPool(host='mx.misumi-ec.com', port=443): Read timed out. (read timeout=12)\")': /es/vona2/result/?Keyword=CHXHM12-P11.9-B14-L10-F6\n",
            "WARNING:urllib3.connectionpool:Retrying (Retry(total=2, connect=None, read=None, redirect=None, status=None)) after connection broken by 'ReadTimeoutError(\"HTTPSConnectionPool(host='mx.misumi-ec.com', port=443): Read timed out. (read timeout=12)\")': /es/vona2/result/?Keyword=CHXHM12-P12.2-B14-L10-F6\n",
            "WARNING:urllib3.connectionpool:Retrying (Retry(total=1, connect=None, read=None, redirect=None, status=None)) after connection broken by 'ReadTimeoutError(\"HTTPSConnectionPool(host='mx.misumi-ec.com', port=443): Read timed out. (read timeout=12)\")': /es/vona2/result/?Keyword=CHXHM12-P9.5-B14-L10-F8\n",
            "WARNING:urllib3.connectionpool:Retrying (Retry(total=0, connect=None, read=None, redirect=None, status=None)) after connection broken by 'ReadTimeoutError(\"HTTPSConnectionPool(host='mx.misumi-ec.com', port=443): Read timed out. (read timeout=12)\")': /es/vona2/result/?Keyword=CHXHM12-P9.5-B14-L10-F8\n",
            "WARNING:urllib3.connectionpool:Retrying (Retry(total=2, connect=None, read=None, redirect=None, status=None)) after connection broken by 'ReadTimeoutError(\"HTTPSConnectionPool(host='mx.misumi-ec.com', port=443): Read timed out. (read timeout=12)\")': /es/vona2/result/?Keyword=APSTH-D5-L10-G4\n"
          ]
        },
        {
          "output_type": "stream",
          "name": "stdout",
          "text": [
            "Actualizados: 1254  |  NO_MATCH restantes: 256  |  Total filas: 3912\n"
          ]
        }
      ]
    },
    {
      "cell_type": "code",
      "source": [
        "no_match_rows_qt = df_qt_2425[df_qt_2425[\"SERIES_CD\"] == \"NO_MATCH\"]\n",
        "\n",
        "print(\"Total de NO_MATCH:\", len(no_match_rows_qt))"
      ],
      "metadata": {
        "id": "KwMY2Vk2yF1y",
        "colab": {
          "base_uri": "https://localhost:8080/"
        },
        "outputId": "70f7edd6-a265-4171-8b43-d7bf01d0f286"
      },
      "execution_count": 432,
      "outputs": [
        {
          "output_type": "stream",
          "name": "stdout",
          "text": [
            "Total de NO_MATCH: 256\n"
          ]
        }
      ]
    },
    {
      "cell_type": "markdown",
      "source": [
        "Observamos un faltante de 256 líneas de inner codes. Aplicamos un head de los 10 primeros elementos para verificar que son Part Numbers no disponibles en el catálogo de MISUMI MX, por lo que no tienen relevancia en nuestro análisis.\n",
        "\n",
        "Este suceso puede ser explicado por una actualización del listado de componentes disponibles por parte del departamentento de BU, el verificar esta información queda fuera del propósito de nuestro análisis."
      ],
      "metadata": {
        "id": "zE3RwANzzIff"
      }
    },
    {
      "cell_type": "code",
      "source": [
        "no_match_rows_qt.head(10)"
      ],
      "metadata": {
        "id": "U6c_a7ERyJeN"
      },
      "execution_count": null,
      "outputs": []
    },
    {
      "cell_type": "markdown",
      "source": [
        "Para facilitar la gestión de los datos, una vez ejecutado el snipet del web scrapping, se renombra y descarga el archivo CSV con el remplazo de los \"NO_MATCH\" por el series code adecuado.\n",
        "\n",
        "A los elementos que aún mantienen el status \"NO_MATCH\" se les aplica un drop para eliminarlos."
      ],
      "metadata": {
        "id": "pQt-8OTY0cFb"
      }
    },
    {
      "cell_type": "code",
      "source": [
        "df_qt_2425 = df_qt_2425.drop(df_qt_2425[df_qt_2425[\"SERIES_CD\"] == \"NO_MATCH\"].index)"
      ],
      "metadata": {
        "id": "AbM96WuB0eph"
      },
      "execution_count": null,
      "outputs": []
    },
    {
      "cell_type": "code",
      "source": [
        "df_qt_2425.to_csv(\"df_qt_2425t.csv\", index=False, encoding=\"utf-8\")"
      ],
      "metadata": {
        "id": "wtg6rmN803US"
      },
      "execution_count": null,
      "outputs": []
    },
    {
      "cell_type": "markdown",
      "source": [
        "###### Sales Order Pipeline"
      ],
      "metadata": {
        "id": "UvGio4Sd1q6a"
      }
    },
    {
      "cell_type": "code",
      "source": [
        "UA = \"Mozilla/5.0 (X11; Linux x86_64) AppleWebKit/537.36 (KHTML, like Gecko) Chrome/120 Safari/537.36\"\n",
        "session = requests.Session()\n",
        "session.headers.update({\"User-Agent\": UA, \"Accept-Language\": \"es-MX,es;q=0.9,en;q=0.8\"})\n",
        "retry = Retry(total=3, backoff_factor=0.5, status_forcelist=[429, 500, 502, 503, 504])\n",
        "adapter = HTTPAdapter(max_retries=retry, pool_connections=100, pool_maxsize=100)\n",
        "session.mount(\"http://\", adapter)\n",
        "session.mount(\"https://\", adapter)\n",
        "\n",
        "detail_rx = re.compile(r\"/detail/(\\d+)/\")\n",
        "\n",
        "def extract_series_from_url(url: str):\n",
        "    m = detail_rx.search(url or \"\")\n",
        "    return m.group(1) if m else None\n",
        "\n",
        "def get_series_code_from_misumi(pn: str, timeout=12) -> str | None:\n",
        "    \"\"\"\n",
        "    1) Abre la búsqueda (deja seguir redirecciones).\n",
        "    2) Si la URL final ya es /vona2/detail/####/ -> extrae.\n",
        "    3) Si no, parsea el HTML y toma la primera liga a /vona2/detail/.\n",
        "    \"\"\"\n",
        "    kw = quote(str(pn))\n",
        "    search_urls = [\n",
        "        f\"https://mx.misumi-ec.com/es/search/?Keyword={kw}\",\n",
        "        f\"https://mx.misumi-ec.com/es/vona2/result/?Keyword={kw}\",\n",
        "    ]\n",
        "\n",
        "    for url in search_urls:\n",
        "        try:\n",
        "            r = session.get(url, allow_redirects=True, timeout=timeout)\n",
        "        except Exception:\n",
        "            continue\n",
        "\n",
        "        sc = extract_series_from_url(r.url)\n",
        "        if sc:\n",
        "            return sc\n",
        "\n",
        "        try:\n",
        "            soup = BeautifulSoup(r.text, \"lxml\")\n",
        "            link = soup.find(\"link\", rel=\"canonical\")\n",
        "            if link and link.get(\"href\"):\n",
        "                sc = extract_series_from_url(link[\"href\"])\n",
        "                if sc:\n",
        "                    return sc\n",
        "            a = soup.select_one('a[href*=\"/vona2/detail/\"]')\n",
        "            if a and a.get(\"href\"):\n",
        "                sc = extract_series_from_url(a[\"href\"])\n",
        "                if sc:\n",
        "                    return sc\n",
        "        except Exception:\n",
        "            pass\n",
        "\n",
        "    return None\n",
        "\n",
        "mask = (df_so_2425[\"SERIES_CD\"] == \"NO_MATCH\")\n",
        "targets = df_so_2425.loc[mask, \"PRODUCT_CODE\"].astype(str).str.strip()\n",
        "\n",
        "cache = {}\n",
        "\n",
        "def worker(pn):\n",
        "    if pn in cache:\n",
        "        return pn, cache[pn]\n",
        "    sc = get_series_code_from_misumi(pn)\n",
        "    cache[pn] = sc\n",
        "    return pn, sc\n",
        "\n",
        "unique_pns = targets.unique()\n",
        "found = {}\n",
        "\n",
        "with ThreadPoolExecutor(max_workers=12) as ex:\n",
        "    futures = {ex.submit(worker, pn): pn for pn in unique_pns}\n",
        "    for fut in tqdm(as_completed(futures), total=len(futures), desc=\"Buscando series en MISUMI\"):\n",
        "        pn, sc = fut.result()\n",
        "        if sc:\n",
        "            found[pn] = sc\n",
        "\n",
        "df_so_2425.loc[mask, \"SERIES_CD\"] = df_so_2425.loc[mask, \"PRODUCT_CODE\"].map(found).fillna(\"NO_MATCH\")\n",
        "\n",
        "total_no_match = (df_so_2425[\"SERIES_CD\"] == \"NO_MATCH\").sum()\n",
        "print(f\"Actualizados: {len(found)}  |  NO_MATCH restantes: {total_no_match}  |  Total filas: {len(df_so_2425)}\")\n"
      ],
      "metadata": {
        "id": "8o8LKx5m1tMv"
      },
      "execution_count": null,
      "outputs": []
    },
    {
      "cell_type": "code",
      "source": [
        "no_match_rows_so = df_so_2425[df_so_2425[\"SERIES_CD\"] == \"NO_MATCH\"]\n",
        "\n",
        "print(\"Total de NO_MATCH:\", len(no_match_rows))"
      ],
      "metadata": {
        "id": "Krtjk_xu1x4g"
      },
      "execution_count": null,
      "outputs": []
    },
    {
      "cell_type": "code",
      "source": [
        "no_match_rows_so.head(10)"
      ],
      "metadata": {
        "id": "aRiSqUkz10L3"
      },
      "execution_count": null,
      "outputs": []
    },
    {
      "cell_type": "code",
      "source": [
        "df_so_2425 = df_so_2425.drop(df_so_2425[df_so_2425[\"SERIES_CD\"] == \"NO_MATCH\"].index)"
      ],
      "metadata": {
        "id": "iMbjivPQ11dL"
      },
      "execution_count": null,
      "outputs": []
    },
    {
      "cell_type": "code",
      "source": [
        "df_so_2425.to_csv(\"df_so_2425t.csv\", index=False, encoding=\"utf-8\")"
      ],
      "metadata": {
        "id": "B7jz3etY13OW"
      },
      "execution_count": null,
      "outputs": []
    },
    {
      "cell_type": "markdown",
      "source": [
        "A partir de este punto, contamos con dos **DataFrames ya enriquecidos** mediante el proceso de búsqueda y actualización automática de SERIES_CD. Con el fin de **optimizar tiempos de ejecución y uso de recursos en Colab**, esta etapa de web scraping se considera un paso de preprocesamiento que debe ejecutarse **únicamente una vez.** Posteriormente, todo el análisis y manipulación se llevará a cabo sobre las versiones persistidas en disco, denominadas df_qt_2425t y df_so_2425t. Se asume que el usuario descargará estos DataFrames en formato CSV tras la etapa de enriquecimiento y los volverá a cargar en el entorno de trabajo cuando sea necesario continuar con el flujo analítico."
      ],
      "metadata": {
        "id": "rus8Drbo3F7i"
      }
    },
    {
      "cell_type": "markdown",
      "source": [
        "## **Feature Engineering: *Locating Pins 2.0***\n",
        "\n",
        "**Data Frames enriquecidos por web scrapping**\n",
        "\n",
        "Ahora que los datos han sido **enriquecidos mediante el proceso de web scraping**, se procede con una etapa de **data wrangling**, cuyo objetivo es **transformar y estructurar la información** de forma que facilite su exploración, análisis y posterior visualización.\n",
        "\n",
        "Durante esta fase se optimizan los *data frames* obtenidos, consolidando la información procedente de los bancos de *Quotations* y *Sales Orders* ya corregidos y actualizados.  \n",
        "Este paso garantiza la coherencia de las variables clave (*Inner Code*, *Series Code*, *Product Code*, etc.) y permite construir un **conjunto de datos unificado y depurado**, apto para análisis estadístico, modelado y generación de insights sobre el comportamiento del cliente en la categoría *Locating Pins*.\n"
      ],
      "metadata": {
        "id": "RqRjH_bI4BSj"
      }
    },
    {
      "cell_type": "markdown",
      "source": [
        "##### Cargamos ambos data frames para poder utilizarlos, en conjunto con **Generación de números de parte** y **Generación de CADs**"
      ],
      "metadata": {
        "id": "sulZXtcg8FHD"
      }
    },
    {
      "cell_type": "code",
      "source": [
        "df_qt_2425t = pd.read_csv(\"/content/df_qt_2425t.csv\")"
      ],
      "metadata": {
        "id": "s-tjJI3c4c0F"
      },
      "execution_count": null,
      "outputs": []
    },
    {
      "cell_type": "code",
      "source": [
        "df_so_2425t = pd.read_csv(\"/content/df_so_2425t.csv\")"
      ],
      "metadata": {
        "id": "5WByOA-z8eUu"
      },
      "execution_count": null,
      "outputs": []
    },
    {
      "cell_type": "markdown",
      "source": [
        "##### Visualización de Dataframes a utilizar"
      ],
      "metadata": {
        "id": "ZfhpSCvs8rgo"
      }
    },
    {
      "cell_type": "markdown",
      "source": [
        "Quotations:"
      ],
      "metadata": {
        "id": "A09y5lb486yX"
      }
    },
    {
      "cell_type": "code",
      "source": [
        "df_qt_2425t.head(10)"
      ],
      "metadata": {
        "id": "kZW8UGtw8-qq"
      },
      "execution_count": null,
      "outputs": []
    },
    {
      "cell_type": "markdown",
      "source": [
        "Sales Orders:"
      ],
      "metadata": {
        "id": "kJF8K9YJ9Cse"
      }
    },
    {
      "cell_type": "code",
      "source": [
        "df_so_2425t.head(10)"
      ],
      "metadata": {
        "id": "8z9JGan98_b-"
      },
      "execution_count": null,
      "outputs": []
    },
    {
      "cell_type": "markdown",
      "source": [
        "Números de parte generados:"
      ],
      "metadata": {
        "id": "pwSNxAZ39UHo"
      }
    },
    {
      "cell_type": "code",
      "source": [
        "df_pngen_2425.head(10)"
      ],
      "metadata": {
        "id": "_4tC91EH9CKO"
      },
      "execution_count": null,
      "outputs": []
    },
    {
      "cell_type": "markdown",
      "source": [
        "CADs descargados:"
      ],
      "metadata": {
        "id": "UoPottsu9YFn"
      }
    },
    {
      "cell_type": "code",
      "source": [
        "df_cad_2425.head(10)"
      ],
      "metadata": {
        "id": "W1UPHxkg9XS-"
      },
      "execution_count": null,
      "outputs": []
    },
    {
      "cell_type": "markdown",
      "source": [
        "##### Transformación de los datos"
      ],
      "metadata": {
        "id": "skmWeCWvAq8G"
      }
    },
    {
      "cell_type": "markdown",
      "source": [
        "Quotation:"
      ],
      "metadata": {
        "id": "x8tkRy3EA_Ay"
      }
    },
    {
      "cell_type": "code",
      "source": [
        "df_qt_2425t = df_qt_2425t[[\"SERIES_CD\", \"QT_QTY\", \"CUSTOMER_CODE\"]]\n",
        "\n",
        "df_qt_2425t[\"QT_QTY\"] = pd.to_numeric(df_qt_2425t[\"QT_QTY\"], errors=\"coerce\").fillna(0)\n",
        "\n",
        "df_qt_2425t = (\n",
        "    df_qt_2425t\n",
        "    .groupby(\"SERIES_CD\", as_index=False)\n",
        "    .agg(QT_QTY=(\"QT_QTY\", \"sum\"),\n",
        "         UNIQUE_CUSTOMERS=(\"CUSTOMER_CODE\", \"nunique\"))\n",
        ")\n",
        "\n",
        "df_qt_2425t = df_qt_2425t.sort_values(\"QT_QTY\", ascending=False).reset_index(drop=True)\n"
      ],
      "metadata": {
        "id": "aryd_WEBAuUj"
      },
      "execution_count": null,
      "outputs": []
    },
    {
      "cell_type": "markdown",
      "source": [
        "Sales Orders"
      ],
      "metadata": {
        "id": "5AA_px9rBCgU"
      }
    },
    {
      "cell_type": "code",
      "source": [
        "df_so_2425t = df_so_2425t[[\"SERIES_CD\", \"SO_QTY\", \"CUSTOMER_CODE\"]]\n",
        "\n",
        "df_so_2425t[\"QT_QTY\"] = pd.to_numeric(df_so_2425t[\"SO_QTY\"], errors=\"coerce\").fillna(0)\n",
        "\n",
        "df_so_2425t = (\n",
        "    df_so_2425t\n",
        "    .groupby(\"SERIES_CD\", as_index=False)\n",
        "    .agg(SO_QTY=(\"QT_QTY\", \"sum\"),\n",
        "         UNIQUE_CUSTOMERS=(\"CUSTOMER_CODE\", \"nunique\"))\n",
        ")\n",
        "\n",
        "df_so_2425t = df_so_2425t.sort_values(\"SO_QTY\", ascending=False).reset_index(drop=True)"
      ],
      "metadata": {
        "id": "tLhHDqJcA4Xy"
      },
      "execution_count": null,
      "outputs": []
    },
    {
      "cell_type": "markdown",
      "source": [
        "Part Numbers Generated"
      ],
      "metadata": {
        "id": "gmELM25ACBvt"
      }
    },
    {
      "cell_type": "code",
      "source": [
        "df_pngen_2425t = (\n",
        "    df_pngen_2425\n",
        "    .groupby(\"SERIES_CODE\", as_index=False)\n",
        "    .agg(\n",
        "        SO_QTY=(\"SERIES_CODE\", \"count\"),\n",
        "        UNIQUE_CUSTOMERS=(\"CUSTOMER_CODE\", \"nunique\")\n",
        "    )\n",
        ")\n",
        "\n",
        "df_pngen_2425t = df_pngen_2425t.rename(columns={\"SERIES_CODE\": \"SERIES_CD\"})"
      ],
      "metadata": {
        "id": "qWeOVeOnCE1T"
      },
      "execution_count": null,
      "outputs": []
    },
    {
      "cell_type": "markdown",
      "source": [
        "CAD Models Downloaded"
      ],
      "metadata": {
        "id": "Z6MTgOX_D7rz"
      }
    },
    {
      "cell_type": "code",
      "source": [
        "df_cad_2425t = (\n",
        "    df_cad_2425\n",
        "    .groupby(\"SERIES_CODE\", as_index=False)\n",
        "    .agg(\n",
        "        CAD_QTY=(\"SERIES_CODE\", \"count\"),\n",
        "        UNIQUE_CUSTOMERS=(\"CUSTOMER_CODE\", \"nunique\")\n",
        "    )\n",
        ")\n",
        "\n",
        "df_cad_2425t = df_cad_2425t.rename(columns={\"SERIES_CODE\": \"SERIES_CD\"})"
      ],
      "metadata": {
        "id": "9Q0FZe_iCnnb"
      },
      "execution_count": null,
      "outputs": []
    },
    {
      "cell_type": "markdown",
      "source": [
        "**¿Qué Series Codes son más solicitados?**\n",
        "\n",
        "***Responden a la necesidad de ciertos clientes***\n",
        "\n",
        "Hacemos index la columna QT_QTY que representa la demanda unitaria del series code. Aplicamos la misma lógica a todas."
      ],
      "metadata": {
        "id": "MbyISsX2FZdk"
      }
    },
    {
      "cell_type": "markdown",
      "source": [
        "###### Quotation: QT_QTY"
      ],
      "metadata": {
        "id": "JoZvjVL7GNDM"
      }
    },
    {
      "cell_type": "code",
      "source": [
        "df_qt_2425t.head(10)"
      ],
      "metadata": {
        "id": "pNUOrmF7EFzX"
      },
      "execution_count": null,
      "outputs": []
    },
    {
      "cell_type": "markdown",
      "source": [
        "###### Sales Orders: SO_QTY"
      ],
      "metadata": {
        "id": "rj8MyLlFF_Vm"
      }
    },
    {
      "cell_type": "code",
      "source": [
        "df_so_2425t.head(10)"
      ],
      "metadata": {
        "id": "V1tSLm3tEfhY"
      },
      "execution_count": null,
      "outputs": []
    },
    {
      "cell_type": "markdown",
      "source": [
        "###### Part Number Generated: PN_QTY"
      ],
      "metadata": {
        "id": "VbuDmKQWGIYe"
      }
    },
    {
      "cell_type": "code",
      "source": [
        "df_pngen_2425t = df_pngen_2425t.sort_values(by=\"SO_QTY\", ascending=False).reset_index(drop=True)"
      ],
      "metadata": {
        "id": "pm84e9RHGgSB"
      },
      "execution_count": null,
      "outputs": []
    },
    {
      "cell_type": "code",
      "source": [
        "df_pngen_2425t = df_pngen_2425t.rename(columns={\"SO_QTY\": \"PN_QTY\"})"
      ],
      "metadata": {
        "id": "pFi2XstPGu9N"
      },
      "execution_count": null,
      "outputs": []
    },
    {
      "cell_type": "code",
      "source": [
        "df_pngen_2425t.head(10)"
      ],
      "metadata": {
        "id": "jtUVX9yrEiqn"
      },
      "execution_count": null,
      "outputs": []
    },
    {
      "cell_type": "markdown",
      "source": [
        "###### CADs Downloaded: CAD_QTY"
      ],
      "metadata": {
        "id": "AaAQwcViGmYZ"
      }
    },
    {
      "cell_type": "code",
      "source": [
        "df_cad_2425t = df_cad_2425t.sort_values(by=\"CAD_QTY\", ascending=False).reset_index(drop=True)"
      ],
      "metadata": {
        "id": "06W_hZnWHyJg"
      },
      "execution_count": null,
      "outputs": []
    },
    {
      "cell_type": "code",
      "source": [
        "df_cad_2425t.head(10)"
      ],
      "metadata": {
        "id": "pm6N4f8TEn8f"
      },
      "execution_count": null,
      "outputs": []
    },
    {
      "cell_type": "markdown",
      "source": [
        "## **Data Visualization: *Funnel y Tops por cantidad y clientes únicos***\n",
        "\n",
        "En esta sección se desarrollan visualizaciones orientadas a responder las **principales preguntas del negocio** relacionadas con el comportamiento de los clientes dentro del embudo de conversión (*funnel*) de *Locating Pins*.\n",
        "\n",
        "Se analizan las métricas clave en cada etapa del proceso comercial, tanto en volumen total como en base a clientes únicos, con el fin de identificar patrones de interés, productos de alto impacto y oportunidades de mejora en la conversión.\n",
        "\n",
        "**Preguntas abordadas:**\n",
        "\n",
        "- ¿Qué números de parte son los más generados en el *EC* por número total y por clientes únicos?  \n",
        "- ¿Qué números de parte son los más descargados en formato CAD por número total y por clientes únicos?  \n",
        "- ¿Qué números de parte son los más cotizados por número total y por clientes únicos?  \n",
        "- ¿Qué números de parte son los más vendidos por número total y por clientes únicos?\n",
        "\n",
        "Estas visualizaciones permiten **evaluar la eficiencia del funnel**, reconocer los productos con mayor atracción y demanda, y respaldar decisiones estratégicas sobre portafolio, marketing técnico y planeación comercial.\n",
        "\n"
      ],
      "metadata": {
        "id": "kqHXKvV2K53f"
      }
    },
    {
      "cell_type": "markdown",
      "source": [
        "## **Funnel Path to Purchase**\n",
        "\n",
        "En este punto se construye un **funnel dinámico de conversión** a partir de los cuatro *data frames* que representan las distintas etapas del proceso comercial:  \n",
        "**generación de números de parte**, **descargas de CAD**, **cotizaciones (QT)** y **órdenes de venta (SO)**.\n",
        "\n",
        "Para cada etapa se identificó la columna correspondiente a la métrica de interés (`QTY`) y se calculó la **sumatoria total de series codes**.  \n",
        "Posteriormente, estos valores se organizaron de forma descendente con el fin de **visualizar la magnitud relativa** de cada fase dentro del funnel.\n",
        "\n",
        "Este análisis permite comprender cómo evoluciona el interés del cliente desde la generación inicial del número de parte hasta la conversión final en venta, identificando posibles puntos de fricción y oportunidades de optimización dentro del *path to purchase*.\n",
        "\n"
      ],
      "metadata": {
        "id": "hWLs5y4nLGqa"
      }
    },
    {
      "cell_type": "code",
      "source": [
        "funnel_dfs = {\n",
        "    \"QT Entries\": (\"QT_QTY\", df_qt_2425t),\n",
        "    \"SO (Sales)\": (\"SO_QTY\", df_so_2425t),\n",
        "    \"Part Numbers Generated\": (\"PN_QTY\", df_pngen_2425t),\n",
        "    \"CAD Downloads\": (\"CAD_QTY\", df_cad_2425t)\n",
        "}\n",
        "\n",
        "funnel_totals = {\n",
        "    stage: df[qty_col].sum()\n",
        "    for stage, (qty_col, df) in funnel_dfs.items()\n",
        "}\n",
        "\n",
        "funnel_totals = dict(sorted(funnel_totals.items(), key=lambda x: x[1], reverse=True))\n",
        "\n",
        "for stage, total in funnel_totals.items():\n",
        "    print(f\"{stage}: {total:,}\")\n"
      ],
      "metadata": {
        "id": "Fra04V40Lc-_"
      },
      "execution_count": null,
      "outputs": []
    },
    {
      "cell_type": "markdown",
      "source": [
        "#### **Funnel por cantidades totales de PN Gen, CAD Download, Quotations y Sales Orders**"
      ],
      "metadata": {
        "id": "cMVPcTpxwc-v"
      }
    },
    {
      "cell_type": "code",
      "source": [
        "funnel_data = {\n",
        "    \"Part Numbers Generated\": df_pngen_2425t[\"PN_QTY\"].sum(),\n",
        "    \"CAD Downloads\":          df_cad_2425t[\"CAD_QTY\"].sum(),\n",
        "    \"QT Entries\":             df_qt_2425t[\"QT_QTY\"].sum(),\n",
        "    \"SO (Sales)\":             df_so_2425t[\"SO_QTY\"].sum(),\n",
        "}\n",
        "\n",
        "stages = sorted(funnel_data.items(), key=lambda x: x[1], reverse=True)\n",
        "labels  = [s for s, _ in stages]\n",
        "values  = [v for _, v in stages]\n",
        "vmax    = max(values)\n",
        "\n",
        "H = 1.0\n",
        "gap = 0.15\n",
        "Wmax = 14.0\n",
        "left_pad  = 0.85 * Wmax\n",
        "right_pad = 0.85 * Wmax\n",
        "colors = [\"#A7D3F5\", \"#66B2FF\", \"#3377CC\", \"#1A1A80\"]\n",
        "\n",
        "fig, ax = plt.subplots(figsize=(14,6))\n",
        "y = 0.0\n",
        "prev_w = Wmax\n",
        "\n",
        "for i, (label, val) in enumerate(stages):\n",
        "    w = Wmax * (val / vmax)\n",
        "    top_y, bot_y = y, y + H\n",
        "\n",
        "    poly = Polygon(\n",
        "        [(-prev_w/2, top_y), (prev_w/2, top_y), (w/2, bot_y), (-w/2, bot_y)],\n",
        "        closed=True, facecolor=colors[i % len(colors)],\n",
        "        edgecolor='white', linewidth=2\n",
        "    )\n",
        "    ax.add_patch(poly)\n",
        "\n",
        "    cy = (top_y + bot_y) / 2.0\n",
        "    ax.text(\n",
        "        -left_pad, cy, label,\n",
        "        va=\"center\", ha=\"left\", fontsize=12, clip_on=False\n",
        "    )\n",
        "    ax.text(\n",
        "        right_pad, cy, f\"{val:,}  ({val/vmax:.1%})\",\n",
        "        va=\"center\", ha=\"right\", fontsize=12, clip_on=False\n",
        "    )\n",
        "\n",
        "    y = bot_y + gap\n",
        "    prev_w = w\n",
        "\n",
        "ax.set_xlim(-Wmax*1.05, Wmax*1.05)\n",
        "ax.set_ylim(-0.5, y + 0.5)\n",
        "ax.axis(\"off\")\n",
        "ax.invert_yaxis()\n",
        "plt.tight_layout()\n",
        "plt.show()\n",
        "\n"
      ],
      "metadata": {
        "id": "DgX4ZMBQL9kp"
      },
      "execution_count": null,
      "outputs": []
    },
    {
      "cell_type": "markdown",
      "source": [
        "**Por Unique Customers**"
      ],
      "metadata": {
        "id": "4HztcBtRO3GQ"
      }
    },
    {
      "cell_type": "code",
      "source": [
        "df_so_2425t2 = df_so_2425t.sort_values(by=\"UNIQUE_CUSTOMERS\", ascending=False).reset_index(drop=True)\n",
        "df_qt_2425t2 = df_qt_2425t.sort_values(by=\"UNIQUE_CUSTOMERS\", ascending=False).reset_index(drop=True)\n",
        "df_pngen_2425t2 = df_pngen_2425t.sort_values(by=\"UNIQUE_CUSTOMERS\", ascending=False).reset_index(drop=True)\n",
        "df_cad_2425t2 = df_cad_2425t.sort_values(by=\"UNIQUE_CUSTOMERS\", ascending=False).reset_index(drop=True)"
      ],
      "metadata": {
        "id": "uPQ_GAbuMCAG"
      },
      "execution_count": null,
      "outputs": []
    },
    {
      "cell_type": "code",
      "source": [
        "df_so_2425t2.head(10)"
      ],
      "metadata": {
        "id": "KY4IMIfJPaDX"
      },
      "execution_count": null,
      "outputs": []
    },
    {
      "cell_type": "code",
      "source": [
        "df_qt_2425t2.head(10)"
      ],
      "metadata": {
        "id": "Bvbij_ySPqod"
      },
      "execution_count": null,
      "outputs": []
    },
    {
      "cell_type": "code",
      "source": [
        "df_pngen_2425t2.head(10)"
      ],
      "metadata": {
        "id": "gRNqaZkAQjeM"
      },
      "execution_count": null,
      "outputs": []
    },
    {
      "cell_type": "code",
      "source": [
        "df_cad_2425t2.head(10)"
      ],
      "metadata": {
        "id": "0iAYkCnYQljE"
      },
      "execution_count": null,
      "outputs": []
    },
    {
      "cell_type": "markdown",
      "source": [
        "#### **Funnel por variabilidad en Customer Codes de PN Gen, CAD Download, Quotations y Sales Orders.**"
      ],
      "metadata": {
        "id": "WoqoTJ7bwnVV"
      }
    },
    {
      "cell_type": "code",
      "source": [
        "funnel_dfs = {\n",
        "    \"Part Numbers Generated\": (df_pngen_2425t2, \"UNIQUE_CUSTOMERS\"),\n",
        "    \"CAD Downloads\":          (df_cad_2425t2,  \"UNIQUE_CUSTOMERS\"),\n",
        "    \"QT Entries\":             (df_qt_2425t2,   \"UNIQUE_CUSTOMERS\"),\n",
        "    \"SO (Sales)\":             (df_so_2425t2,   \"UNIQUE_CUSTOMERS\"),\n",
        "}\n",
        "\n",
        "funnel_data = {name: df[col].sum() for name, (df, col) in funnel_dfs.items()}\n",
        "stages = sorted(funnel_data.items(), key=lambda x: x[1], reverse=True)\n",
        "labels  = [s for s, _ in stages]\n",
        "values  = [v for _, v in stages]\n",
        "vmax    = max(values) if values else 1\n",
        "\n",
        "H = 1.0\n",
        "gap = 0.15\n",
        "Wmax = 14.0\n",
        "left_pad  = 0.90 * Wmax\n",
        "right_pad = 0.90 * Wmax\n",
        "colors = [\"#A7D3F5\", \"#66B2FF\", \"#3377CC\", \"#1A1A80\"]\n",
        "\n",
        "fig, ax = plt.subplots(figsize=(15,6))\n",
        "y = 0.0\n",
        "prev_w = Wmax\n",
        "\n",
        "for i, (label, val) in enumerate(stages):\n",
        "    w = Wmax * (val / vmax)\n",
        "    top_y, bot_y = y, y + H\n",
        "    poly = Polygon(\n",
        "        [(-prev_w/2, top_y), (prev_w/2, top_y), (w/2, bot_y), (-w/2, bot_y)],\n",
        "        closed=True, facecolor=colors[i % len(colors)],\n",
        "        edgecolor='white', linewidth=2\n",
        "    )\n",
        "    ax.add_patch(poly)\n",
        "    cy = (top_y + bot_y) / 2.0\n",
        "    ax.text(-left_pad,  cy, label, va=\"center\", ha=\"left\",  fontsize=12, clip_on=False)\n",
        "    ax.text( right_pad, cy, f\"{val:,}  ({val/vmax:.1%})\",\n",
        "             va=\"center\", ha=\"right\", fontsize=12, clip_on=False)\n",
        "    y = bot_y + gap\n",
        "    prev_w = w\n",
        "\n",
        "ax.set_xlim(-Wmax*1.05, Wmax*1.05)\n",
        "ax.set_ylim(-0.5, y + 0.5)\n",
        "ax.axis(\"off\")\n",
        "ax.invert_yaxis()\n",
        "plt.tight_layout()\n",
        "plt.show()\n"
      ],
      "metadata": {
        "id": "nWuX4-mmQnk8"
      },
      "execution_count": null,
      "outputs": []
    },
    {
      "cell_type": "markdown",
      "source": [
        "#### **Bar Plots: Visualizaciones estratégicas.**"
      ],
      "metadata": {
        "id": "lKr7mXXxyHfa"
      }
    },
    {
      "cell_type": "code",
      "source": [
        "titles_and_specs = [\n",
        "    (\"Top ventas por cantidad\",                            df_so_2425t,   \"SO_QTY\",            \"Cantidad\"),\n",
        "    (\"Top cotizaciones por cantidad\",                      df_qt_2425t,   \"QT_QTY\",            \"Cantidad\"),\n",
        "    (\"Top números de parte generados por cantidad\",        df_pngen_2425t,\"PN_QTY\",            \"Cantidad\"),\n",
        "    (\"Top modelos CAD descargados por cantidad\",           df_cad_2425t,  \"CAD_QTY\",           \"Cantidad\"),\n",
        "    (\"Top ventas por clientes únicos\",                     df_so_2425t2,   \"UNIQUE_CUSTOMERS\",  \"Clientes únicos\"),\n",
        "    (\"Top cotizaciones por clientes únicos\",               df_qt_2425t2,   \"UNIQUE_CUSTOMERS\",  \"Clientes únicos\"),\n",
        "    (\"Top números de parte generados por clientes únicos\", df_pngen_2425t2,\"UNIQUE_CUSTOMERS\",  \"Clientes únicos\"),\n",
        "    (\"Top modelos CAD descargados por clientes únicos\",    df_cad_2425t2,  \"UNIQUE_CUSTOMERS\",  \"Clientes únicos\"),\n",
        "]\n",
        "\n",
        "fig, axes = plt.subplots(4, 2, figsize=(18, 22))\n",
        "axes = axes.flatten()\n",
        "\n",
        "for ax, (title, df, metric, ylabel) in zip(axes, titles_and_specs):\n",
        "    top = df.sort_values(by=metric, ascending=False).head(20)\n",
        "    ax.bar(top[\"SERIES_CD\"].astype(str), top[metric])\n",
        "    ax.set_title(title, fontsize=13, weight=\"bold\")\n",
        "    ax.set_ylabel(ylabel)\n",
        "    ax.tick_params(axis=\"x\", rotation=90)\n",
        "\n",
        "plt.tight_layout()\n",
        "plt.show()\n",
        "\n"
      ],
      "metadata": {
        "id": "m1jBKs4SRuvN"
      },
      "execution_count": null,
      "outputs": []
    },
    {
      "cell_type": "markdown",
      "source": [
        "#### **Data frames agrupados por customer codes asociados a cada Series Codes.**"
      ],
      "metadata": {
        "id": "D3ZimYJ4ICOz"
      }
    },
    {
      "cell_type": "code",
      "source": [
        "gp_df_qt_2425 = (\n",
        "    df_qt_2425.groupby(\"SERIES_CD\")[\"CUSTOMER_CODE\"]\n",
        "    .apply(lambda x: list(set(x)))\n",
        "    .reset_index()\n",
        "    .assign(count=lambda x: x[\"CUSTOMER_CODE\"].str.len())\n",
        "    .sort_values(by=\"count\", ascending=False)\n",
        "    .reset_index(drop=True)\n",
        ")\n"
      ],
      "metadata": {
        "id": "MwY_WWSf80HJ"
      },
      "execution_count": null,
      "outputs": []
    },
    {
      "cell_type": "code",
      "source": [
        "gp_df_qt_2425 = gp_df_qt_2425.drop(df.index[0])"
      ],
      "metadata": {
        "id": "28_ce4uNExpi"
      },
      "execution_count": null,
      "outputs": []
    },
    {
      "cell_type": "code",
      "source": [
        "gp_df_so_2425 = (\n",
        "    df_so_2425.groupby(\"SERIES_CD\")[\"CUSTOMER_CODE\"]\n",
        "    .apply(lambda x: list(set(x)))\n",
        "    .reset_index()\n",
        "    .assign(count=lambda x: x[\"CUSTOMER_CODE\"].str.len())\n",
        "    .sort_values(by=\"count\", ascending=False)\n",
        "    .reset_index(drop=True)\n",
        ")\n"
      ],
      "metadata": {
        "id": "XfkbGzN2CJ26"
      },
      "execution_count": null,
      "outputs": []
    },
    {
      "cell_type": "code",
      "source": [
        "gp_cad_2425 = (\n",
        "    df_cad_2425.groupby(\"SERIES_CODE\")[\"CUSTOMER_CODE\"]\n",
        "    .apply(lambda x: list(set(x)))\n",
        "    .reset_index()\n",
        "    .assign(count=lambda x: x[\"CUSTOMER_CODE\"].str.len())\n",
        "    .sort_values(by=\"count\", ascending=False)\n",
        "    .reset_index(drop=True)\n",
        ")\n"
      ],
      "metadata": {
        "id": "KncR9mYzFI0H"
      },
      "execution_count": null,
      "outputs": []
    },
    {
      "cell_type": "code",
      "source": [
        "gp_cad_2425.head(10)"
      ],
      "metadata": {
        "id": "_A07N47IlWK3"
      },
      "execution_count": null,
      "outputs": []
    },
    {
      "cell_type": "code",
      "source": [
        "gp_pngen_2425 = (\n",
        "    df_pngen_2425.groupby(\"SERIES_CODE\")[\"CUSTOMER_CODE\"]\n",
        "    .apply(lambda x: list(set(x)))\n",
        "    .reset_index()\n",
        "    .assign(count=lambda x: x[\"CUSTOMER_CODE\"].str.len())\n",
        "    .sort_values(by=\"count\", ascending=False)\n",
        "    .reset_index(drop=True)\n",
        ")\n"
      ],
      "metadata": {
        "id": "JNQzz7W8HWM_"
      },
      "execution_count": null,
      "outputs": []
    },
    {
      "cell_type": "code",
      "source": [
        "gp_pngen_2425.head(10)"
      ],
      "metadata": {
        "id": "tlEyk5BllZz9"
      },
      "execution_count": null,
      "outputs": []
    },
    {
      "cell_type": "markdown",
      "source": [
        "## Funnel DLM Offering\n",
        "\n",
        "Puede suceder que nuestro interés se enfoque ahora no solo en observar el comportamiento general de los clientes dentro de la categoría *Locating Pins*,  \n",
        "sino también en aplicar un filtro que responda a la pregunta:  \n",
        "**¿Cómo se comporta el funnel considerando únicamente los productos disponibles dentro del portafolio DLM?**\n",
        "\n",
        "Para lograrlo, se trabaja con un **listado de series codes disponibles en DLM**, el cual se carga en un nuevo *data frame* que servirá como base para filtrar las etapas previas del funnel.  \n",
        "De esta manera, se puede analizar el proceso comercial exclusivamente sobre los productos **ofrecidos por DLM**, permitiendo evaluar su desempeño individual frente al universo completo de *Locating Pins* y detectar oportunidades de expansión o mejora en la oferta actual.\n",
        "\n"
      ],
      "metadata": {
        "id": "m0LFQeig05a9"
      }
    },
    {
      "cell_type": "code",
      "source": [
        "dlm_series_offering = pd.read_excel(\"/content/dlm_series_offering.xlsx\")"
      ],
      "metadata": {
        "id": "-rFYOLuG1umK"
      },
      "execution_count": null,
      "outputs": []
    },
    {
      "cell_type": "code",
      "source": [
        "dlm_series_offering = dlm_series_offering.drop_duplicates().reset_index(drop=True)"
      ],
      "metadata": {
        "id": "-3GiWqEI5RGe"
      },
      "execution_count": null,
      "outputs": []
    },
    {
      "cell_type": "markdown",
      "source": [
        "Usamos los data frames que trabajamos al inicio para hacer un filtro en el cual solo se queden aquellas filas que cuyo valor en 'Series Code' empate con alguno de la lista en 'dlm_series_offering'"
      ],
      "metadata": {
        "id": "KMZdZvE79XUG"
      }
    },
    {
      "cell_type": "code",
      "source": [
        "dlm_qt_2425t = df_qt_2425t[df_qt_2425t[\"SERIES_CD\"].isin(dlm_series_offering[\"Series Code\"])].copy()"
      ],
      "metadata": {
        "id": "0ykKUoqJ9n1F"
      },
      "execution_count": null,
      "outputs": []
    },
    {
      "cell_type": "code",
      "source": [
        "dlm_qt_2425t.head(10)"
      ],
      "metadata": {
        "id": "-EENu7YhjJ1p"
      },
      "execution_count": null,
      "outputs": []
    },
    {
      "cell_type": "code",
      "source": [
        "dlm_so_2425t = df_so_2425t[df_so_2425t[\"SERIES_CD\"].isin(dlm_series_offering[\"Series Code\"])].copy()"
      ],
      "metadata": {
        "id": "YYhcARPj_GoJ"
      },
      "execution_count": null,
      "outputs": []
    },
    {
      "cell_type": "code",
      "source": [
        "dlm_so_2425t.head(10)"
      ],
      "metadata": {
        "id": "KtjQyFHRjOsf"
      },
      "execution_count": null,
      "outputs": []
    },
    {
      "cell_type": "code",
      "source": [
        "df_cad_2425t[\"SERIES_CD\"] = (\n",
        "    df_cad_2425t[\"SERIES_CD\"].astype(str).str.strip().str.upper()\n",
        ")\n",
        "dlm_series_offering[\"Series Code\"] = (\n",
        "    dlm_series_offering[\"Series Code\"].astype(str).str.strip().str.upper()\n",
        ")\n",
        "\n",
        "dlm_cad_2425t = df_cad_2425t[\n",
        "    df_cad_2425t[\"SERIES_CD\"].isin(dlm_series_offering[\"Series Code\"])\n",
        "].copy()\n"
      ],
      "metadata": {
        "id": "AsarAkCN_VZR"
      },
      "execution_count": null,
      "outputs": []
    },
    {
      "cell_type": "code",
      "source": [
        "dlm_cad_2425t.head(10)"
      ],
      "metadata": {
        "id": "HAlw3_ZZlSWo"
      },
      "execution_count": null,
      "outputs": []
    },
    {
      "cell_type": "code",
      "source": [
        "df_pngen_2425t[\"SERIES_CODE\"] = (\n",
        "    df_pngen_2425t[\"SERIES_CODE\"].astype(str).str.strip().str.upper()\n",
        ")\n",
        "dlm_series_offering[\"Series Code\"] = (\n",
        "    dlm_series_offering[\"Series Code\"].astype(str).str.strip().str.upper()\n",
        ")\n",
        "\n",
        "dlm_pngen_2425t = df_pngen_2425t[\n",
        "    df_pngen_2425t[\"SERIES_CODE\"].isin(dlm_series_offering[\"Series Code\"])\n",
        "].copy()"
      ],
      "metadata": {
        "id": "I_PJlWgZ_ZCU"
      },
      "execution_count": null,
      "outputs": []
    },
    {
      "cell_type": "code",
      "source": [
        "df_pngen_2425t.head(10)"
      ],
      "metadata": {
        "id": "yFPWMEtBlUIb"
      },
      "execution_count": null,
      "outputs": []
    },
    {
      "cell_type": "markdown",
      "source": [
        "Hacemos lo mismo para poder generar los Data Frames de los números de parte generados, CAD descargdos, cotizados y vendidos pero usando la cantidad de Clientes únicos en cada etapa del funnel."
      ],
      "metadata": {
        "id": "ya6bksjC__ru"
      }
    },
    {
      "cell_type": "code",
      "source": [
        "gp_dlm_qt_2425t = dlm_qt_2425t.sort_values(\n",
        "    by=\"UNIQUE_CUSTOMERS\", ascending=False\n",
        ").reset_index(drop=True)"
      ],
      "metadata": {
        "id": "F21_NbTMmW0F"
      },
      "execution_count": null,
      "outputs": []
    },
    {
      "cell_type": "code",
      "source": [
        "gp_dlm_qt_2425t.head(10)"
      ],
      "metadata": {
        "id": "GhCcgSncnA7y"
      },
      "execution_count": null,
      "outputs": []
    },
    {
      "cell_type": "code",
      "source": [
        "gp_dlm_so_2425t = dlm_so_2425t.sort_values(\n",
        "    by=\"UNIQUE_CUSTOMERS\", ascending=False\n",
        ").reset_index(drop=True)"
      ],
      "metadata": {
        "id": "dmPbn_7xmX9f"
      },
      "execution_count": null,
      "outputs": []
    },
    {
      "cell_type": "code",
      "source": [
        "gp_dlm_so_2425t.head(10)"
      ],
      "metadata": {
        "id": "fdzT6sN3nE4I"
      },
      "execution_count": null,
      "outputs": []
    },
    {
      "cell_type": "code",
      "source": [
        "gp_dlm_cad_2425t = dlm_cad_2425t.sort_values(\n",
        "    by=\"UNIQUE_CUSTOMERS\", ascending=False\n",
        ").reset_index(drop=True)"
      ],
      "metadata": {
        "id": "UJk_kfLYmep4"
      },
      "execution_count": null,
      "outputs": []
    },
    {
      "cell_type": "code",
      "source": [
        "gp_dlm_cad_2425t.head(10)"
      ],
      "metadata": {
        "id": "c5uzhB-_nGjH"
      },
      "execution_count": null,
      "outputs": []
    },
    {
      "cell_type": "code",
      "source": [
        "gp_dlm_pngen_2425t = df_pngen_2425t.sort_values(\n",
        "    by=\"UNIQUE_CUSTOMERS\", ascending=False\n",
        ").reset_index(drop=True)"
      ],
      "metadata": {
        "id": "1gkku1B7mfD4"
      },
      "execution_count": null,
      "outputs": []
    },
    {
      "cell_type": "code",
      "source": [
        "gp_dlm_pngen_2425t.head(10)"
      ],
      "metadata": {
        "id": "Ntu3dtPqqQl6"
      },
      "execution_count": null,
      "outputs": []
    },
    {
      "cell_type": "markdown",
      "source": [
        "Generamos la visualización del funnel solo para los Series Codes que se ofrecen en DLM por cantidades totales"
      ],
      "metadata": {
        "id": "CsnlmjYMB1It"
      }
    },
    {
      "cell_type": "code",
      "source": [
        "def total(df, col):\n",
        "    return pd.to_numeric(df[col], errors=\"coerce\").fillna(0).sum()\n",
        "\n",
        "funnel_data = {\n",
        "    \"Part Numbers Generated\": total(df_pngen_2425t, \"PN_QTY\"),\n",
        "    \"CAD Downloads\":          total(dlm_cad_2425t,  \"CAD_QTY\"),\n",
        "    \"QT Entries\":             total(dlm_qt_2425t,   \"QT_QTY\"),\n",
        "    \"SO (Sales)\":             total(dlm_so_2425t,   \"SO_QTY\"),\n",
        "}\n",
        "\n",
        "stages = sorted(funnel_data.items(), key=lambda x: x[1], reverse=True)\n",
        "labels  = [s for s, _ in stages]\n",
        "values  = [v for _, v in stages]\n",
        "\n",
        "vmax = max(values) if len(values) and max(values) > 0 else 1\n",
        "\n",
        "H = 1.0\n",
        "gap = 0.15\n",
        "Wmax = 14.0\n",
        "left_pad  = 0.85 * Wmax\n",
        "right_pad = 0.85 * Wmax\n",
        "colors = [\"#A7D3F5\", \"#66B2FF\", \"#3377CC\", \"#1A1A80\"]\n",
        "\n",
        "fig, ax = plt.subplots(figsize=(14, 6))\n",
        "plt.title(\"Funnel DLM 24/25 — Quantity\", fontsize=16, fontweight=\"bold\")\n",
        "y = 0.0\n",
        "prev_w = Wmax\n",
        "\n",
        "for i, (label, val) in enumerate(stages):\n",
        "    w = Wmax * (val / vmax)\n",
        "    top_y, bot_y = y, y + H\n",
        "\n",
        "    poly = Polygon(\n",
        "        [(-prev_w/2, top_y), (prev_w/2, top_y), (w/2, bot_y), (-w/2, bot_y)],\n",
        "        closed=True, facecolor=colors[i % len(colors)],\n",
        "        edgecolor='white', linewidth=2\n",
        "    )\n",
        "    ax.add_patch(poly)\n",
        "\n",
        "    cy = (top_y + bot_y) / 2.0\n",
        "    ax.text(-left_pad, cy, label, va=\"center\", ha=\"left\", fontsize=12, clip_on=False)\n",
        "    ax.text(right_pad, cy, f\"{int(val):,}  ({val/vmax:.1%})\",\n",
        "            va=\"center\", ha=\"right\", fontsize=12, clip_on=False)\n",
        "\n",
        "    y = bot_y + gap\n",
        "    prev_w = w\n",
        "\n",
        "ax.set_xlim(-Wmax*1.05, Wmax*1.05)\n",
        "ax.set_ylim(-0.5, y + 0.5)\n",
        "ax.axis(\"off\")\n",
        "ax.invert_yaxis()\n",
        "plt.tight_layout()\n",
        "plt.show()\n"
      ],
      "metadata": {
        "id": "ftRl2iyOB_Zb"
      },
      "execution_count": null,
      "outputs": []
    },
    {
      "cell_type": "markdown",
      "source": [
        "Generamos la visualización del funnel solo para los Series Codes que se ofrecen en DLM por clientes únicos."
      ],
      "metadata": {
        "id": "DbE5eoGMC5F0"
      }
    },
    {
      "cell_type": "code",
      "source": [
        "def total_uc(df):\n",
        "    return pd.to_numeric(df[\"UNIQUE_CUSTOMERS\"], errors=\"coerce\").fillna(0).sum()\n",
        "\n",
        "funnel_data = {\n",
        "    \"Customers PN Generated\": total_uc(gp_dlm_pngen_2425t),\n",
        "    \"Customers CAD Download\":          total_uc(gp_dlm_cad_2425t),\n",
        "    \"Customers QTs\":             total_uc(gp_dlm_qt_2425t),\n",
        "    \"Customers SO\":             total_uc(gp_dlm_so_2425t),\n",
        "}\n",
        "\n",
        "stages = sorted(funnel_data.items(), key=lambda x: x[1], reverse=True)\n",
        "labels  = [s for s, _ in stages]\n",
        "values  = [v for _, v in stages]\n",
        "vmax    = max(values) if len(values) and max(values) > 0 else 1\n",
        "\n",
        "H = 1.0\n",
        "gap = 0.15\n",
        "Wmax = 14.0\n",
        "left_pad  = 0.85 * Wmax\n",
        "right_pad = 0.85 * Wmax\n",
        "colors = [\"#A7D3F5\", \"#66B2FF\", \"#3377CC\", \"#1A1A80\"]\n",
        "\n",
        "fig, ax = plt.subplots(figsize=(14, 6))\n",
        "plt.title(\"Funnel DLM 24/25 — Unique Customers\", fontsize=16, fontweight=\"bold\")\n",
        "y = 0.0\n",
        "prev_w = Wmax\n",
        "\n",
        "for i, (label, val) in enumerate(stages):\n",
        "    w = Wmax * (val / vmax)\n",
        "    top_y, bot_y = y, y + H\n",
        "\n",
        "    poly = Polygon(\n",
        "        [(-prev_w/2, top_y), (prev_w/2, top_y), (w/2, bot_y), (-w/2, bot_y)],\n",
        "        closed=True, facecolor=colors[i % len(colors)],\n",
        "        edgecolor='white', linewidth=2\n",
        "    )\n",
        "    ax.add_patch(poly)\n",
        "\n",
        "    cy = (top_y + bot_y) / 2.0\n",
        "    ax.text(-left_pad, cy, label, va=\"center\", ha=\"left\", fontsize=12, clip_on=False)\n",
        "    ax.text(right_pad, cy, f\"{int(val):,}  ({val/vmax:.1%})\",\n",
        "            va=\"center\", ha=\"right\", fontsize=12, clip_on=False)\n",
        "\n",
        "    y = bot_y + gap\n",
        "    prev_w = w\n",
        "\n",
        "ax.set_xlim(-Wmax*1.05, Wmax*1.05)\n",
        "ax.set_ylim(-0.5, y + 0.5)\n",
        "ax.axis(\"off\")\n",
        "ax.invert_yaxis()\n",
        "plt.tight_layout()\n",
        "plt.show()\n"
      ],
      "metadata": {
        "id": "M1k2SUv9rCsx"
      },
      "execution_count": null,
      "outputs": []
    },
    {
      "cell_type": "markdown",
      "source": [
        "# **Conclusiones de Negocio**\n",
        "\n",
        "El análisis del *path to purchase* para la categoría **Locating Pins** permitió identificar patrones de comportamiento del cliente y puntos clave dentro del proceso comercial que impactan directamente en las **ventas y conversión**.\n",
        "\n",
        "1. **Alta generación de interés técnico:**  \n",
        "   La cantidad de números de parte generados y descargas CAD indica un fuerte nivel de exploración y validación técnica por parte de los ingenieros, lo que confirma el posicionamiento de MISUMI como referente en la etapa de diseño.\n",
        "\n",
        "2. **Brecha entre interés y conversión:**  \n",
        "   Se observa una disminución significativa entre las etapas de cotización y venta. Esto sugiere oportunidades de mejora en **seguimiento comercial, disponibilidad de producto y competitividad de precios**, especialmente en los códigos más cotizados.\n",
        "\n",
        "3. **Identificación de productos de alto impacto:**  \n",
        "   Los *part numbers* con mayor frecuencia en descargas y cotizaciones pueden priorizarse dentro de campañas de marketing técnico o gestión de inventario, al representar una **alta probabilidad de conversión**.\n",
        "\n",
        "4. **Análisis de oferta DLM:**  \n",
        "   Al filtrar los datos por series disponibles en DLM, se evidencia que existe una porción relevante del interés que aún no se convierte en ventas, lo que abre oportunidades de **ampliar el surtido local** o **ajustar el portafolio DLM** a la demanda real del cliente mexicano.\n",
        "\n",
        "5. **Valor estratégico del modelo analítico:**  \n",
        "   El desarrollo del funnel dinámico y el enriquecimiento de datos mediante *web scraping* permiten transformar información dispersa en **insights accionables**, fortaleciendo la toma de decisiones basada en datos y la priorización de esfuerzos comerciales.\n",
        "\n",
        "En conjunto, el estudio demuestra que el uso de técnicas de *Data Science* aplicadas a datos de interacción y ventas puede **mejorar la gestión del embudo comercial**, optimizar la oferta disponible y orientar la estrategia comercial de MISUMI México hacia una **mayor eficiencia en la conversión y retención de clientes**.\n",
        "\n"
      ],
      "metadata": {
        "id": "WvmO_JcfcnWy"
      }
    }
  ]
}